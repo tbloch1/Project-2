{
 "cells": [
  {
   "cell_type": "code",
   "execution_count": 1,
   "metadata": {
    "ExecuteTime": {
     "end_time": "2019-09-11T11:37:22.651869Z",
     "start_time": "2019-09-11T11:37:19.512242Z"
    }
   },
   "outputs": [],
   "source": [
    "import pandas as pd\n",
    "import numpy as np\n",
    "import datetime as dt"
   ]
  },
  {
   "cell_type": "code",
   "execution_count": 2,
   "metadata": {
    "ExecuteTime": {
     "end_time": "2019-09-11T11:37:24.042325Z",
     "start_time": "2019-09-11T11:37:24.038853Z"
    }
   },
   "outputs": [],
   "source": [
    "base_f_loc = '/storage/silver/stfc_cg/hf832176/data/THEMIS/'"
   ]
  },
  {
   "cell_type": "markdown",
   "metadata": {},
   "source": [
    "# <center> Read in Data </center>"
   ]
  },
  {
   "cell_type": "code",
   "execution_count": 3,
   "metadata": {
    "ExecuteTime": {
     "end_time": "2019-09-11T11:37:25.518137Z",
     "start_time": "2019-09-11T11:37:25.369925Z"
    }
   },
   "outputs": [
    {
     "name": "stdout",
     "output_type": "stream",
     "text": [
      "/storage/silver/stfc_cg/hf832176/data/THEMIS/tha.pkl\r\n",
      "/storage/silver/stfc_cg/hf832176/data/THEMIS/tha_sst_energy_levels.pkl\r\n",
      "/storage/silver/stfc_cg/hf832176/data/THEMIS/thb.pkl\r\n",
      "/storage/silver/stfc_cg/hf832176/data/THEMIS/thc.pkl\r\n",
      "/storage/silver/stfc_cg/hf832176/data/THEMIS/thd.pkl\r\n",
      "/storage/silver/stfc_cg/hf832176/data/THEMIS/the.pkl\r\n"
     ]
    }
   ],
   "source": [
    "!ls {base_f_loc}*.pkl"
   ]
  },
  {
   "cell_type": "code",
   "execution_count": 4,
   "metadata": {
    "ExecuteTime": {
     "end_time": "2019-09-11T11:37:26.522731Z",
     "start_time": "2019-09-11T11:37:26.476373Z"
    }
   },
   "outputs": [
    {
     "data": {
      "text/html": [
       "<div>\n",
       "<style scoped>\n",
       "    .dataframe tbody tr th:only-of-type {\n",
       "        vertical-align: middle;\n",
       "    }\n",
       "\n",
       "    .dataframe tbody tr th {\n",
       "        vertical-align: top;\n",
       "    }\n",
       "\n",
       "    .dataframe thead th {\n",
       "        text-align: right;\n",
       "    }\n",
       "</style>\n",
       "<table border=\"1\" class=\"dataframe\">\n",
       "  <thead>\n",
       "    <tr style=\"text-align: right;\">\n",
       "      <th></th>\n",
       "      <th>31000.0</th>\n",
       "      <th>41000.0</th>\n",
       "      <th>52000.0</th>\n",
       "      <th>65500.0</th>\n",
       "      <th>93000.0</th>\n",
       "      <th>139000.0</th>\n",
       "      <th>203500.0</th>\n",
       "      <th>293000.0</th>\n",
       "      <th>408000.0</th>\n",
       "      <th>561500.0</th>\n",
       "      <th>719500.0</th>\n",
       "      <th>nan</th>\n",
       "      <th>nan</th>\n",
       "      <th>nan</th>\n",
       "      <th>nan</th>\n",
       "      <th>nan</th>\n",
       "    </tr>\n",
       "  </thead>\n",
       "  <tbody>\n",
       "    <tr>\n",
       "      <th>eV</th>\n",
       "      <td>0</td>\n",
       "      <td>1</td>\n",
       "      <td>2</td>\n",
       "      <td>3</td>\n",
       "      <td>4</td>\n",
       "      <td>5</td>\n",
       "      <td>6</td>\n",
       "      <td>7</td>\n",
       "      <td>8</td>\n",
       "      <td>9</td>\n",
       "      <td>10</td>\n",
       "      <td>11</td>\n",
       "      <td>12</td>\n",
       "      <td>13</td>\n",
       "      <td>14</td>\n",
       "      <td>15</td>\n",
       "    </tr>\n",
       "  </tbody>\n",
       "</table>\n",
       "</div>"
      ],
      "text/plain": [
       "    31000.0   41000.0   52000.0   65500.0   93000.0   139000.0  203500.0  \\\n",
       "eV         0         1         2         3         4         5         6   \n",
       "\n",
       "    293000.0  408000.0  561500.0  719500.0  NaN       NaN       NaN       \\\n",
       "eV         7         8         9        10        11        12        13   \n",
       "\n",
       "    NaN       NaN       \n",
       "eV        14        15  "
      ]
     },
     "execution_count": 4,
     "metadata": {},
     "output_type": "execute_result"
    }
   ],
   "source": [
    "e_levs = pd.read_pickle(base_f_loc+'tha_sst_energy_levels.pkl')\n",
    "e_levs.T"
   ]
  },
  {
   "cell_type": "code",
   "execution_count": 5,
   "metadata": {
    "ExecuteTime": {
     "end_time": "2019-09-11T11:37:27.762859Z",
     "start_time": "2019-09-11T11:37:27.250220Z"
    },
    "code_folding": [
     0
    ]
   },
   "outputs": [],
   "source": [
    "# Read .pkl files\n",
    "tha = pd.read_pickle(base_f_loc+'tha.pkl')\n",
    "thb = pd.read_pickle(base_f_loc+'thb.pkl')\n",
    "thc = pd.read_pickle(base_f_loc+'thc.pkl')\n",
    "thd = pd.read_pickle(base_f_loc+'thd.pkl')\n",
    "the = pd.read_pickle(base_f_loc+'the.pkl')"
   ]
  },
  {
   "cell_type": "code",
   "execution_count": 6,
   "metadata": {
    "ExecuteTime": {
     "end_time": "2019-09-11T11:37:28.227818Z",
     "start_time": "2019-09-11T11:37:28.012339Z"
    },
    "code_folding": [
     0
    ]
   },
   "outputs": [],
   "source": [
    "# reorder columns by ascending energy\n",
    "cols = ['E_'+str(i+1) for i in range(16)]+tha.columns.tolist()[16:]\n",
    "tha = tha[cols]\n",
    "thb = thb[cols]\n",
    "thc = thc[cols]\n",
    "thd = thd[cols]\n",
    "the = the[cols]"
   ]
  },
  {
   "cell_type": "markdown",
   "metadata": {},
   "source": [
    "# <center> Select Equatorial Data </center>\n",
    "\n",
    "For analysis, data is limited to the equatorial plane and radial limits about an estimate of the ORB boundary.\n",
    "\n",
    "Equatorial region: Z = 0 $\\pm$ 0.5 R$_E$.\n",
    "\n",
    "Radial limits: 7 R$_E$ $\\leqslant$ R $\\leqslant$ 12 R$_E$\n",
    "\n",
    "Dawn (Dusk): 6 (18) $\\pm$ 3 MLT "
   ]
  },
  {
   "cell_type": "code",
   "execution_count": 91,
   "metadata": {
    "ExecuteTime": {
     "end_time": "2019-09-11T14:53:58.431723Z",
     "start_time": "2019-09-11T14:53:58.422947Z"
    },
    "code_folding": []
   },
   "outputs": [],
   "source": [
    "def how_much(df):\n",
    "    equa_r = df[(np.abs(df['pos_z_gsm']/6378.1)<0.5) &\n",
    "                 (df['r'] >= 8) & (df['r'] <= 10)]\n",
    "    dawn = equa_r[(3 <= equa_r['mlt']) &\n",
    "                  (equa_r['mlt'] <= 9)]\n",
    "    dusk = equa_r[(15 <= equa_r['mlt']) &\n",
    "                  (equa_r['mlt'] <= 21)]\n",
    "    print('DF: '+str(len(df)),'EQR: '+str(len(equa_r)),'Dawn: '+str(len(dawn)),'Dusk: '+str(len(dusk)))\n",
    "    return dawn,dusk"
   ]
  },
  {
   "cell_type": "code",
   "execution_count": 92,
   "metadata": {
    "ExecuteTime": {
     "end_time": "2019-09-11T14:53:59.413610Z",
     "start_time": "2019-09-11T14:53:59.265427Z"
    }
   },
   "outputs": [
    {
     "name": "stdout",
     "output_type": "stream",
     "text": [
      "DF: 124801 EQR: 5178 Dawn: 832 Dusk: 1940\n",
      "DF: 124801 EQR: 597 Dawn: 218 Dusk: 112\n",
      "DF: 124801 EQR: 1463 Dawn: 503 Dusk: 287\n",
      "DF: 124801 EQR: 6472 Dawn: 2052 Dusk: 2123\n",
      "DF: 124801 EQR: 4631 Dawn: 1116 Dusk: 1345\n"
     ]
    }
   ],
   "source": [
    "a_dawn, a_dusk = how_much(tha)\n",
    "b_dawn, b_dusk = how_much(thb)\n",
    "c_dawn, c_dusk = how_much(thc)\n",
    "d_dawn, d_dusk = how_much(thd)\n",
    "e_dawn, e_dusk = how_much(the)"
   ]
  },
  {
   "cell_type": "code",
   "execution_count": 93,
   "metadata": {
    "ExecuteTime": {
     "end_time": "2019-09-11T14:54:00.518637Z",
     "start_time": "2019-09-11T14:54:00.498357Z"
    },
    "scrolled": true
   },
   "outputs": [
    {
     "name": "stdout",
     "output_type": "stream",
     "text": [
      "(4721, 31) (5807, 31)\n"
     ]
    }
   ],
   "source": [
    "dawn = pd.concat([a_dawn,b_dawn,c_dawn,d_dawn,e_dawn],axis=0,\n",
    "                 sort=False,ignore_index=False)\n",
    "dusk = pd.concat([a_dusk,b_dusk,c_dusk,d_dusk,e_dusk],axis=0,\n",
    "                 sort=False,ignore_index=False)\n",
    "print(dawn.shape,dusk.shape)"
   ]
  },
  {
   "cell_type": "markdown",
   "metadata": {},
   "source": [
    "Note:\n",
    "\n",
    "Checking the date ranges for Dawn and Dusk shows that they haven't been swapped around during processing."
   ]
  },
  {
   "cell_type": "markdown",
   "metadata": {},
   "source": [
    "# <center> Plotting Data </center>"
   ]
  },
  {
   "cell_type": "code",
   "execution_count": 94,
   "metadata": {
    "ExecuteTime": {
     "end_time": "2019-09-11T14:54:02.958061Z",
     "start_time": "2019-09-11T14:54:02.951784Z"
    }
   },
   "outputs": [],
   "source": [
    "import matplotlib.pyplot as plt\n",
    "from mpl_toolkits import mplot3d\n",
    "from matplotlib import cm\n",
    "import seaborn as sbn"
   ]
  },
  {
   "cell_type": "code",
   "execution_count": 95,
   "metadata": {
    "ExecuteTime": {
     "end_time": "2019-09-11T14:54:04.328295Z",
     "start_time": "2019-09-11T14:54:03.750684Z"
    },
    "code_folding": [
     0
    ]
   },
   "outputs": [
    {
     "data": {
      "image/png": "[encoded data removed]",
      "text/plain": [
       "<Figure size 1008x252 with 2 Axes>"
      ]
     },
     "metadata": {
      "needs_background": "light"
     },
     "output_type": "display_data"
    }
   ],
   "source": [
    "# Plotting distributions of the log10(DEF) for subset energies.\n",
    "# for subset of energies\n",
    "plt.figure(figsize=(14,3.5))\n",
    "ax1 = plt.subplot(121)\n",
    "ax2 = plt.subplot(122)\n",
    "\n",
    "ylim1 = []\n",
    "for i in tha.columns[4:9]:\n",
    "    test1 = dawn[i].replace(0,np.nan).dropna()\n",
    "        \n",
    "    hist1 = ax1.hist(np.log10(test1),bins=100,histtype='step',\n",
    "                    label=i+': '+\"{:.2E}\".format(test1.median()))\n",
    "    ylim1.append(hist1[0].max())\n",
    "    \n",
    "ax1.set_title('Dawn')\n",
    "ax1.legend(loc='upper left',frameon=False)\n",
    "ax1.set_xlim(0,8)\n",
    "ax1.set_ylabel('Counts')\n",
    "ax1.set_xlabel('Log$_{10}$(DEF)')\n",
    "sbn.despine()\n",
    "\n",
    "############\n",
    "\n",
    "ylim2 = []\n",
    "for i in tha.columns[4:9]:\n",
    "    test2 = dusk[i].replace(0,np.nan).dropna()\n",
    "        \n",
    "    hist2 = ax2.hist(np.log10(test2),bins=100,histtype='step',\n",
    "                     label=i+': '+\"{:.2E}\".format(test2.median()))\n",
    "    ylim2.append(hist2[0].max())\n",
    "        \n",
    "ax2.set_title('Dusk')\n",
    "ax2.legend(loc='upper left',frameon=False)\n",
    "ax2.set_xlim(0,8)\n",
    "ax2.set_ylabel('Counts')\n",
    "ax2.set_xlabel('Log$_{10}$(DEF)')\n",
    "sbn.despine()\n",
    "\n",
    "ylim = max(ylim1+ylim2)\n",
    "# print(ylim)\n",
    "ax1.set_ylim(0,ylim*1.1)\n",
    "ax2.set_ylim(0,ylim*1.1)\n",
    "plt.show()"
   ]
  },
  {
   "cell_type": "code",
   "execution_count": 96,
   "metadata": {
    "ExecuteTime": {
     "end_time": "2019-09-11T14:54:08.844913Z",
     "start_time": "2019-09-11T14:54:08.096687Z"
    },
    "code_folding": [
     0
    ]
   },
   "outputs": [
    {
     "data": {
      "image/png": "[encoded data removed]",
      "text/plain": [
       "<Figure size 504x252 with 1 Axes>"
      ]
     },
     "metadata": {
      "needs_background": "light"
     },
     "output_type": "display_data"
    },
    {
     "data": {
      "image/png": "[encoded data removed]",
      "text/plain": [
       "<Figure size 504x252 with 1 Axes>"
      ]
     },
     "metadata": {
      "needs_background": "light"
     },
     "output_type": "display_data"
    }
   ],
   "source": [
    "# Plotting boxplots of log10(DEF) for all energies.\n",
    "plt.figure(figsize=(7,3.5))\n",
    "test1 = dawn.iloc[:,0:11].replace(0,np.nan).dropna().values\n",
    "plt.boxplot(np.log10(test1),widths=0.25,sym='')\n",
    "\n",
    "plt.grid(axis='y',alpha=0.5)\n",
    "\n",
    "plt.title('Dawn')\n",
    "# plt.legend(loc='upper left',frameon=False)\n",
    "plt.ylabel('Log$_{10}$(DEF)')\n",
    "plt.xlabel('Energy Channel')\n",
    "plt.ylim(0,8)\n",
    "sbn.despine()\n",
    "plt.show()\n",
    "\n",
    "#################\n",
    "\n",
    "plt.figure(figsize=(7,3.5))\n",
    "test2 = dusk.iloc[:,0:11].replace(0,np.nan).dropna().values\n",
    "plt.boxplot(np.log10(test2),widths=0.25,sym='')\n",
    "\n",
    "plt.grid(axis='y',alpha=0.5)\n",
    "\n",
    "plt.title('Dusk')\n",
    "# plt.legend(loc='upper left',frameon=False)\n",
    "plt.ylabel('Log$_{10}$(DEF)')\n",
    "plt.xlabel('Energy Channel')\n",
    "plt.ylim(0,8)\n",
    "sbn.despine()\n",
    "plt.show()"
   ]
  },
  {
   "cell_type": "code",
   "execution_count": 97,
   "metadata": {
    "ExecuteTime": {
     "end_time": "2019-09-11T14:54:10.800760Z",
     "start_time": "2019-09-11T14:54:10.534629Z"
    },
    "code_folding": [
     0
    ]
   },
   "outputs": [
    {
     "data": {
      "image/png": "[encoded data removed]",
      "text/plain": [
       "<Figure size 504x252 with 1 Axes>"
      ]
     },
     "metadata": {
      "needs_background": "light"
     },
     "output_type": "display_data"
    }
   ],
   "source": [
    "# Plot of median DEF per energy channel\n",
    "plt.figure(figsize=(7,3.5))\n",
    "\n",
    "plt.plot([i for i in range(16)],\n",
    "        [np.log10(dusk[i].median()) for i in dusk.columns[0:16]],\n",
    "        label='Dusk')\n",
    "plt.plot([i for i in range(16)],\n",
    "        [np.log10(dawn[i].median()) for i in dawn.columns[0:16]],\n",
    "        label='Dawn')\n",
    "\n",
    "plt.legend(loc='lower center',ncol=2,frameon=False)\n",
    "plt.ylabel('Median log$_{10}$(DEF)')\n",
    "plt.xlabel('Energy Channel')\n",
    "\n",
    "tick_l = [i for i in dusk.columns[0:11]]\n",
    "t_loc = [i for i in range(11)]\n",
    "plt.xticks(ticks=t_loc,labels=tick_l)\n",
    "sbn.despine()\n",
    "plt.show()"
   ]
  },
  {
   "cell_type": "code",
   "execution_count": 98,
   "metadata": {
    "ExecuteTime": {
     "end_time": "2019-09-11T14:54:14.119954Z",
     "start_time": "2019-09-11T14:54:11.612293Z"
    },
    "code_folding": [
     0
    ]
   },
   "outputs": [
    {
     "data": {
      "image/png": "[encoded data removed]",
      "text/plain": [
       "<Figure size 1008x252 with 2 Axes>"
      ]
     },
     "metadata": {
      "needs_background": "light"
     },
     "output_type": "display_data"
    }
   ],
   "source": [
    "# Plot of the radial dist. of median DEF\n",
    "r_bins = np.linspace(6,10,101)\n",
    "\n",
    "plt.figure(figsize=(14,3.5))\n",
    "ax1 = plt.subplot(121)\n",
    "ax2 = plt.subplot(122)\n",
    "\n",
    "for k in tha.columns[4:9]:\n",
    "    r_def_da = [dawn[(dawn['r'] > i) & (dawn['r'] < j)][k].median()\n",
    "                for i,j in zip(r_bins[:-1],r_bins[1:])]\n",
    "    ax1.step(r_bins[:-1],np.log10(r_def_da),label=k)\n",
    "\n",
    "ax1.grid(axis='y',alpha=0.5)\n",
    "\n",
    "ax1.set_title('Dawn')\n",
    "ax1.legend(loc='lower left',frameon=False)\n",
    "ax1.set_xlabel('Radial Position, GSM, R$_E$')\n",
    "ax1.set_ylabel('Log$_10$(Median DEF)')\n",
    "ax1.set_ylim(3.5,7)\n",
    "\n",
    "###########\n",
    "\n",
    "for k in tha.columns[4:9]:\n",
    "    r_def_du = [dusk[(dusk['r'] > i) & (dusk['r'] < j)][k].median()\n",
    "                for i,j in zip(r_bins[:-1],r_bins[1:])]\n",
    "    ax2.step(r_bins[:-1],np.log10(r_def_du),label=k)\n",
    "\n",
    "ax2.grid(axis='y',alpha=0.5)\n",
    "\n",
    "ax2.set_title('Dusk')\n",
    "ax2.legend(loc='lower left',frameon=False)\n",
    "ax2.set_xlabel('Radial Position, GSM, R$_E$')\n",
    "ax2.set_ylabel('Log$_10$(Median DEF)')\n",
    "ax2.set_ylim(3.5,7)\n",
    "\n",
    "sbn.despine()\n",
    "plt.show()"
   ]
  },
  {
   "cell_type": "code",
   "execution_count": 99,
   "metadata": {
    "ExecuteTime": {
     "end_time": "2019-09-11T14:54:14.756877Z",
     "start_time": "2019-09-11T14:54:14.751605Z"
    }
   },
   "outputs": [
    {
     "data": {
      "text/plain": [
       "Index(['E_1', 'E_2', 'E_3', 'E_4', 'E_5', 'E_6', 'E_7', 'E_8', 'E_9', 'E_10',\n",
       "       'E_11', 'E_12', 'E_13', 'E_14', 'E_15', 'E_16', 'Bx_gsm', 'By_gsm',\n",
       "       'Bz_gsm', 'pos_x_gsm', 'pos_y_gsm', 'pos_z_gsm', 'spin_ra', 'spin_dec',\n",
       "       'spin_per', 'spin_phase', 'pos_x_gei', 'pos_y_gei', 'pos_z_gei', 'r',\n",
       "       'mlt'],\n",
       "      dtype='object')"
      ]
     },
     "execution_count": 99,
     "metadata": {},
     "output_type": "execute_result"
    }
   ],
   "source": [
    "dawn.columns"
   ]
  },
  {
   "cell_type": "code",
   "execution_count": 100,
   "metadata": {
    "ExecuteTime": {
     "end_time": "2019-09-11T14:54:15.607053Z",
     "start_time": "2019-09-11T14:54:15.344341Z"
    },
    "code_folding": [
     0
    ]
   },
   "outputs": [
    {
     "data": {
      "image/png": "[encoded data removed]",
      "text/plain": [
       "<Figure size 504x252 with 1 Axes>"
      ]
     },
     "metadata": {
      "needs_background": "light"
     },
     "output_type": "display_data"
    }
   ],
   "source": [
    "# Plotting distributions of the radial distance.\n",
    "plt.figure(figsize=(7,3.5))\n",
    "ax1 = plt.subplot(111)\n",
    "# ax2 = plt.subplot(122)\n",
    "\n",
    "ax1.hist(dawn['r'],bins=100,histtype='step',\n",
    "         label='Dawn')\n",
    "ax1.hist(dusk['r'],bins=100,histtype='step',\n",
    "         label='Dusk')\n",
    "\n",
    "# ax1.set_title('Dawn')\n",
    "ax1.legend(loc='upper left',frameon=False)\n",
    "# ax1.set_xlim(0,8)\n",
    "# ax1.set_ylim(0,1100)\n",
    "ax1.set_ylabel('Counts')\n",
    "ax1.set_xlabel('Radial Distance')\n",
    "sbn.despine()\n",
    "\n",
    "############\n",
    "\n",
    "# for i in tha.columns[4:9]:\n",
    "#     test2 = dusk[i].replace(0,np.nan).dropna()\n",
    "        \n",
    "#     ax2.hist(np.log10(test2),bins=100,histtype='step',\n",
    "#             label=str(i)+': '+\"{:.2E}\".format(test2.median()))\n",
    "# ax2.set_title('Dusk')\n",
    "# ax2.legend(loc='upper left',frameon=False)\n",
    "# ax2.set_xlim(0,8)\n",
    "# ax2.set_ylim(0,1100)\n",
    "# ax2.set_ylabel('Counts')\n",
    "# ax2.set_xlabel('Log$_{10}$(DEF)')\n",
    "# sbn.despine()\n",
    "# plt.show()"
   ]
  },
  {
   "cell_type": "code",
   "execution_count": 101,
   "metadata": {
    "ExecuteTime": {
     "end_time": "2019-09-11T14:54:16.175113Z",
     "start_time": "2019-09-11T14:54:16.171830Z"
    },
    "code_folding": [
     0
    ],
    "scrolled": false
   },
   "outputs": [],
   "source": [
    "# Imshow colouring DEF per row of data\n",
    "# fig = plt.figure(figsize=(7,3.5))\n",
    "# ax1 = plt.subplot(111)\n",
    "\n",
    "# img = ax1.imshow(np.log10(dusk.iloc[:,0:11].replace(0,np.nan).dropna()),\n",
    "#                  cmap='magma',aspect='auto',vmin=0,vmax=8,\n",
    "#                  interpolation='spline36')\n",
    "\n",
    "# cbaxes = fig.add_axes([0.925, 0.125, 0.03, 0.7525]) \n",
    "# cb = plt.colorbar(img, cax = cbaxes)  \n",
    "# # cb = fig.colorbar(hb,ax=ax1)\n",
    "# cb.set_label('Log$_{10}$(DEF)')\n",
    "# cb\n",
    "\n",
    "# tick_l = [i for i in dusk.columns[0:11]]\n",
    "# t_loc = [i for i in range(11)]\n",
    "# ax1.set_xticks(ticks=t_loc)\n",
    "# ax1.set_xticklabels(labels=tick_l)\n",
    "# ax1.ticklabel_format(axis='y',style='sci',scilimits=(0,3))\n",
    "# ax1.set_ylabel('Point Number')\n",
    "\n",
    "# plt.show()\n",
    "\n",
    "# ####################\n",
    "# fig = plt.figure(figsize=(7,3.5))\n",
    "# ax1 = plt.subplot(111)\n",
    "\n",
    "# img = ax1.imshow(np.log10(dawn.iloc[:,0:11].replace(0,np.nan).dropna()),\n",
    "#                  cmap='magma',aspect='auto',vmin=0,vmax=8,\n",
    "#                  interpolation='spline36')\n",
    "\n",
    "# cbaxes = fig.add_axes([0.925, 0.125, 0.03, 0.7525]) \n",
    "# cb = plt.colorbar(img, cax = cbaxes)  \n",
    "# # cb = fig.colorbar(hb,ax=ax1)\n",
    "# cb.set_label('Log$_{10}$(DEF)')\n",
    "# cb\n",
    "\n",
    "# tick_l = [i for i in dusk.columns[0:11]]\n",
    "# t_loc = [i for i in range(11)]\n",
    "# ax1.set_xticks(ticks=t_loc)\n",
    "# ax1.set_xticklabels(labels=tick_l)\n",
    "# ax1.ticklabel_format(axis='y',style='sci',scilimits=(0,3))\n",
    "# ax1.set_ylabel('Point Number')\n",
    "\n",
    "# plt.show()"
   ]
  },
  {
   "cell_type": "markdown",
   "metadata": {},
   "source": [
    "# <center> Kolmogorov-Smirnov Statistic </center>"
   ]
  },
  {
   "cell_type": "code",
   "execution_count": 47,
   "metadata": {
    "ExecuteTime": {
     "end_time": "2019-09-09T15:49:12.341847Z",
     "start_time": "2019-09-09T15:49:12.338673Z"
    }
   },
   "outputs": [],
   "source": [
    "from scipy.stats import ks_2samp as kss"
   ]
  },
  {
   "cell_type": "code",
   "execution_count": 48,
   "metadata": {
    "ExecuteTime": {
     "end_time": "2019-09-09T15:49:17.895740Z",
     "start_time": "2019-09-09T15:49:17.771676Z"
    }
   },
   "outputs": [
    {
     "data": {
      "text/html": [
       "<div>\n",
       "<style scoped>\n",
       "    .dataframe tbody tr th:only-of-type {\n",
       "        vertical-align: middle;\n",
       "    }\n",
       "\n",
       "    .dataframe tbody tr th {\n",
       "        vertical-align: top;\n",
       "    }\n",
       "\n",
       "    .dataframe thead th {\n",
       "        text-align: right;\n",
       "    }\n",
       "</style>\n",
       "<table border=\"1\" class=\"dataframe\">\n",
       "  <thead>\n",
       "    <tr style=\"text-align: right;\">\n",
       "      <th></th>\n",
       "      <th>stat</th>\n",
       "      <th>p-val</th>\n",
       "    </tr>\n",
       "  </thead>\n",
       "  <tbody>\n",
       "    <tr>\n",
       "      <th>E_1</th>\n",
       "      <td>0.239293</td>\n",
       "      <td>0.000000e+00</td>\n",
       "    </tr>\n",
       "    <tr>\n",
       "      <th>E_2</th>\n",
       "      <td>0.180875</td>\n",
       "      <td>7.738154e-248</td>\n",
       "    </tr>\n",
       "    <tr>\n",
       "      <th>E_3</th>\n",
       "      <td>0.130361</td>\n",
       "      <td>6.091950e-129</td>\n",
       "    </tr>\n",
       "    <tr>\n",
       "      <th>E_4</th>\n",
       "      <td>0.097161</td>\n",
       "      <td>8.115105e-72</td>\n",
       "    </tr>\n",
       "    <tr>\n",
       "      <th>E_5</th>\n",
       "      <td>0.091471</td>\n",
       "      <td>1.062520e-63</td>\n",
       "    </tr>\n",
       "    <tr>\n",
       "      <th>E_6</th>\n",
       "      <td>0.082094</td>\n",
       "      <td>2.162653e-51</td>\n",
       "    </tr>\n",
       "    <tr>\n",
       "      <th>E_7</th>\n",
       "      <td>0.063151</td>\n",
       "      <td>1.386503e-30</td>\n",
       "    </tr>\n",
       "    <tr>\n",
       "      <th>E_8</th>\n",
       "      <td>0.043744</td>\n",
       "      <td>6.760499e-15</td>\n",
       "    </tr>\n",
       "    <tr>\n",
       "      <th>E_9</th>\n",
       "      <td>0.038743</td>\n",
       "      <td>8.903352e-12</td>\n",
       "    </tr>\n",
       "    <tr>\n",
       "      <th>E_10</th>\n",
       "      <td>0.055432</td>\n",
       "      <td>1.159150e-23</td>\n",
       "    </tr>\n",
       "    <tr>\n",
       "      <th>E_11</th>\n",
       "      <td>0.049685</td>\n",
       "      <td>4.287131e-19</td>\n",
       "    </tr>\n",
       "  </tbody>\n",
       "</table>\n",
       "</div>"
      ],
      "text/plain": [
       "          stat          p-val\n",
       "E_1   0.239293   0.000000e+00\n",
       "E_2   0.180875  7.738154e-248\n",
       "E_3   0.130361  6.091950e-129\n",
       "E_4   0.097161   8.115105e-72\n",
       "E_5   0.091471   1.062520e-63\n",
       "E_6   0.082094   2.162653e-51\n",
       "E_7   0.063151   1.386503e-30\n",
       "E_8   0.043744   6.760499e-15\n",
       "E_9   0.038743   8.903352e-12\n",
       "E_10  0.055432   1.159150e-23\n",
       "E_11  0.049685   4.287131e-19"
      ]
     },
     "execution_count": 48,
     "metadata": {},
     "output_type": "execute_result"
    }
   ],
   "source": [
    "ks_df = pd.DataFrame(index = [i for i in dusk.columns[0:11]],\n",
    "                     columns=['stat','p-val'])\n",
    "\n",
    "ks_df['stat'] = [kss(dawn[i],dusk[i])[0] for i in dusk.columns[0:11]]\n",
    "ks_df['p-val'] = [kss(dawn[i],dusk[i])[1] for i in dusk.columns[0:11]]\n",
    "    \n",
    "ks_df"
   ]
  },
  {
   "cell_type": "markdown",
   "metadata": {},
   "source": [
    "# <center> Anderson-Darlin Test </center>"
   ]
  },
  {
   "cell_type": "code",
   "execution_count": 49,
   "metadata": {
    "ExecuteTime": {
     "end_time": "2019-09-09T15:49:23.551422Z",
     "start_time": "2019-09-09T15:49:23.547674Z"
    }
   },
   "outputs": [],
   "source": [
    "from scipy.stats import anderson_ksamp as adt"
   ]
  },
  {
   "cell_type": "code",
   "execution_count": 50,
   "metadata": {
    "ExecuteTime": {
     "end_time": "2019-09-09T15:49:29.377721Z",
     "start_time": "2019-09-09T15:49:29.052173Z"
    },
    "scrolled": true
   },
   "outputs": [
    {
     "name": "stderr",
     "output_type": "stream",
     "text": [
      "/home/users/hf832176/.conda/envs/tb_env5/lib/python3.6/site-packages/ipykernel_launcher.py:4: UserWarning: p-value floored: true value smaller than 0.001\n",
      "  after removing the cwd from sys.path.\n",
      "/home/users/hf832176/.conda/envs/tb_env5/lib/python3.6/site-packages/ipykernel_launcher.py:4: UserWarning: p-value floored: true value smaller than 0.001\n",
      "  after removing the cwd from sys.path.\n",
      "/home/users/hf832176/.conda/envs/tb_env5/lib/python3.6/site-packages/ipykernel_launcher.py:4: UserWarning: p-value floored: true value smaller than 0.001\n",
      "  after removing the cwd from sys.path.\n",
      "/home/users/hf832176/.conda/envs/tb_env5/lib/python3.6/site-packages/ipykernel_launcher.py:4: UserWarning: p-value floored: true value smaller than 0.001\n",
      "  after removing the cwd from sys.path.\n",
      "/home/users/hf832176/.conda/envs/tb_env5/lib/python3.6/site-packages/ipykernel_launcher.py:4: UserWarning: p-value floored: true value smaller than 0.001\n",
      "  after removing the cwd from sys.path.\n",
      "/home/users/hf832176/.conda/envs/tb_env5/lib/python3.6/site-packages/ipykernel_launcher.py:4: UserWarning: p-value floored: true value smaller than 0.001\n",
      "  after removing the cwd from sys.path.\n",
      "/home/users/hf832176/.conda/envs/tb_env5/lib/python3.6/site-packages/ipykernel_launcher.py:4: UserWarning: p-value floored: true value smaller than 0.001\n",
      "  after removing the cwd from sys.path.\n",
      "/home/users/hf832176/.conda/envs/tb_env5/lib/python3.6/site-packages/ipykernel_launcher.py:4: UserWarning: p-value floored: true value smaller than 0.001\n",
      "  after removing the cwd from sys.path.\n",
      "/home/users/hf832176/.conda/envs/tb_env5/lib/python3.6/site-packages/ipykernel_launcher.py:4: UserWarning: p-value floored: true value smaller than 0.001\n",
      "  after removing the cwd from sys.path.\n",
      "/home/users/hf832176/.conda/envs/tb_env5/lib/python3.6/site-packages/ipykernel_launcher.py:4: UserWarning: p-value floored: true value smaller than 0.001\n",
      "  after removing the cwd from sys.path.\n",
      "/home/users/hf832176/.conda/envs/tb_env5/lib/python3.6/site-packages/ipykernel_launcher.py:4: UserWarning: p-value floored: true value smaller than 0.001\n",
      "  after removing the cwd from sys.path.\n",
      "/home/users/hf832176/.conda/envs/tb_env5/lib/python3.6/site-packages/ipykernel_launcher.py:6: UserWarning: p-value floored: true value smaller than 0.001\n",
      "  \n",
      "/home/users/hf832176/.conda/envs/tb_env5/lib/python3.6/site-packages/ipykernel_launcher.py:6: UserWarning: p-value floored: true value smaller than 0.001\n",
      "  \n",
      "/home/users/hf832176/.conda/envs/tb_env5/lib/python3.6/site-packages/ipykernel_launcher.py:6: UserWarning: p-value floored: true value smaller than 0.001\n",
      "  \n",
      "/home/users/hf832176/.conda/envs/tb_env5/lib/python3.6/site-packages/ipykernel_launcher.py:6: UserWarning: p-value floored: true value smaller than 0.001\n",
      "  \n",
      "/home/users/hf832176/.conda/envs/tb_env5/lib/python3.6/site-packages/ipykernel_launcher.py:6: UserWarning: p-value floored: true value smaller than 0.001\n",
      "  \n",
      "/home/users/hf832176/.conda/envs/tb_env5/lib/python3.6/site-packages/ipykernel_launcher.py:6: UserWarning: p-value floored: true value smaller than 0.001\n",
      "  \n",
      "/home/users/hf832176/.conda/envs/tb_env5/lib/python3.6/site-packages/ipykernel_launcher.py:6: UserWarning: p-value floored: true value smaller than 0.001\n",
      "  \n",
      "/home/users/hf832176/.conda/envs/tb_env5/lib/python3.6/site-packages/ipykernel_launcher.py:6: UserWarning: p-value floored: true value smaller than 0.001\n",
      "  \n",
      "/home/users/hf832176/.conda/envs/tb_env5/lib/python3.6/site-packages/ipykernel_launcher.py:6: UserWarning: p-value floored: true value smaller than 0.001\n",
      "  \n",
      "/home/users/hf832176/.conda/envs/tb_env5/lib/python3.6/site-packages/ipykernel_launcher.py:6: UserWarning: p-value floored: true value smaller than 0.001\n",
      "  \n",
      "/home/users/hf832176/.conda/envs/tb_env5/lib/python3.6/site-packages/ipykernel_launcher.py:6: UserWarning: p-value floored: true value smaller than 0.001\n",
      "  \n"
     ]
    },
    {
     "data": {
      "text/html": [
       "<div>\n",
       "<style scoped>\n",
       "    .dataframe tbody tr th:only-of-type {\n",
       "        vertical-align: middle;\n",
       "    }\n",
       "\n",
       "    .dataframe tbody tr th {\n",
       "        vertical-align: top;\n",
       "    }\n",
       "\n",
       "    .dataframe thead th {\n",
       "        text-align: right;\n",
       "    }\n",
       "</style>\n",
       "<table border=\"1\" class=\"dataframe\">\n",
       "  <thead>\n",
       "    <tr style=\"text-align: right;\">\n",
       "      <th></th>\n",
       "      <th>stat</th>\n",
       "      <th>p-val</th>\n",
       "    </tr>\n",
       "  </thead>\n",
       "  <tbody>\n",
       "    <tr>\n",
       "      <th>E_1</th>\n",
       "      <td>51285.470323</td>\n",
       "      <td>0.001</td>\n",
       "    </tr>\n",
       "    <tr>\n",
       "      <th>E_2</th>\n",
       "      <td>50956.407038</td>\n",
       "      <td>0.001</td>\n",
       "    </tr>\n",
       "    <tr>\n",
       "      <th>E_3</th>\n",
       "      <td>50756.996968</td>\n",
       "      <td>0.001</td>\n",
       "    </tr>\n",
       "    <tr>\n",
       "      <th>E_4</th>\n",
       "      <td>50648.028038</td>\n",
       "      <td>0.001</td>\n",
       "    </tr>\n",
       "    <tr>\n",
       "      <th>E_5</th>\n",
       "      <td>50548.401226</td>\n",
       "      <td>0.001</td>\n",
       "    </tr>\n",
       "    <tr>\n",
       "      <th>E_6</th>\n",
       "      <td>50457.095066</td>\n",
       "      <td>0.001</td>\n",
       "    </tr>\n",
       "    <tr>\n",
       "      <th>E_7</th>\n",
       "      <td>50379.256781</td>\n",
       "      <td>0.001</td>\n",
       "    </tr>\n",
       "    <tr>\n",
       "      <th>E_8</th>\n",
       "      <td>50342.136214</td>\n",
       "      <td>0.001</td>\n",
       "    </tr>\n",
       "    <tr>\n",
       "      <th>E_9</th>\n",
       "      <td>50329.752582</td>\n",
       "      <td>0.001</td>\n",
       "    </tr>\n",
       "    <tr>\n",
       "      <th>E_10</th>\n",
       "      <td>50352.798794</td>\n",
       "      <td>0.001</td>\n",
       "    </tr>\n",
       "    <tr>\n",
       "      <th>E_11</th>\n",
       "      <td>50342.105574</td>\n",
       "      <td>0.001</td>\n",
       "    </tr>\n",
       "  </tbody>\n",
       "</table>\n",
       "</div>"
      ],
      "text/plain": [
       "              stat  p-val\n",
       "E_1   51285.470323  0.001\n",
       "E_2   50956.407038  0.001\n",
       "E_3   50756.996968  0.001\n",
       "E_4   50648.028038  0.001\n",
       "E_5   50548.401226  0.001\n",
       "E_6   50457.095066  0.001\n",
       "E_7   50379.256781  0.001\n",
       "E_8   50342.136214  0.001\n",
       "E_9   50329.752582  0.001\n",
       "E_10  50352.798794  0.001\n",
       "E_11  50342.105574  0.001"
      ]
     },
     "execution_count": 50,
     "metadata": {},
     "output_type": "execute_result"
    }
   ],
   "source": [
    "ad_df = pd.DataFrame(index = [i for i in dusk.columns[0:11]],\n",
    "                     columns=['stat','p-val'])\n",
    "\n",
    "ad_df['stat'] = [adt([dawn[i],dusk[i]])[0] for i in dusk.columns[0:11]]\n",
    "# ad_df['crit val'] = [adt([dawn[i],dusk[i]])[1] for i in dusk.columns[0:11]]\n",
    "ad_df['p-val'] = [adt([dawn[i],dusk[i]])[2] for i in dusk.columns[0:11]]\n",
    "    \n",
    "ad_df"
   ]
  },
  {
   "cell_type": "code",
   "execution_count": null,
   "metadata": {},
   "outputs": [],
   "source": []
  }
 ],
 "metadata": {
  "kernelspec": {
   "display_name": "Python 3",
   "language": "python",
   "name": "python3"
  },
  "language_info": {
   "codemirror_mode": {
    "name": "ipython",
    "version": 3
   },
   "file_extension": ".py",
   "mimetype": "text/x-python",
   "name": "python",
   "nbconvert_exporter": "python",
   "pygments_lexer": "ipython3",
   "version": "3.6.8"
  },
  "varInspector": {
   "cols": {
    "lenName": 16,
    "lenType": 16,
    "lenVar": 40
   },
   "kernels_config": {
    "python": {
     "delete_cmd_postfix": "",
     "delete_cmd_prefix": "del ",
     "library": "var_list.py",
     "varRefreshCmd": "print(var_dic_list())"
    },
    "r": {
     "delete_cmd_postfix": ") ",
     "delete_cmd_prefix": "rm(",
     "library": "var_list.r",
     "varRefreshCmd": "cat(var_dic_list()) "
    }
   },
   "types_to_exclude": [
    "module",
    "function",
    "builtin_function_or_method",
    "instance",
    "_Feature"
   ],
   "window_display": false
  }
 },
 "nbformat": 4,
 "nbformat_minor": 2
}
