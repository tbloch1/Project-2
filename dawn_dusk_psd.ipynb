{
 "cells": [
  {
   "cell_type": "code",
   "execution_count": 1,
   "metadata": {
    "ExecuteTime": {
     "end_time": "2020-04-22T15:36:30.269579Z",
     "start_time": "2020-04-22T15:36:22.333943Z"
    }
   },
   "outputs": [],
   "source": [
    "import pandas as pd\n",
    "import numpy as np\n",
    "import datetime as dt\n",
    "\n",
    "from spacepy import coordinates as coord\n",
    "from spacepy.time import Ticktock"
   ]
  },
  {
   "cell_type": "code",
   "execution_count": 2,
   "metadata": {
    "ExecuteTime": {
     "end_time": "2020-04-22T15:36:30.272745Z",
     "start_time": "2020-04-22T15:36:30.270837Z"
    }
   },
   "outputs": [],
   "source": [
    "base_f_loc = '/storage/silver/stfc_cg/hf832176/data/THEMIS/'"
   ]
  },
  {
   "cell_type": "markdown",
   "metadata": {},
   "source": [
    "# <center> Read in Data </center>"
   ]
  },
  {
   "cell_type": "code",
   "execution_count": 3,
   "metadata": {
    "ExecuteTime": {
     "end_time": "2020-04-22T15:36:30.696871Z",
     "start_time": "2020-04-22T15:36:30.273994Z"
    }
   },
   "outputs": [
    {
     "name": "stdout",
     "output_type": "stream",
     "text": [
      "/storage/silver/stfc_cg/hf832176/data/THEMIS/tha_esa_energy_levels.pkl\r\n",
      "/storage/silver/stfc_cg/hf832176/data/THEMIS/tha_mag.pkl\r\n",
      "/storage/silver/stfc_cg/hf832176/data/THEMIS/tha.pkl\r\n",
      "/storage/silver/stfc_cg/hf832176/data/THEMIS/tha_sst_energy_levels.pkl\r\n",
      "/storage/silver/stfc_cg/hf832176/data/THEMIS/thb_mag.pkl\r\n",
      "/storage/silver/stfc_cg/hf832176/data/THEMIS/thb.pkl\r\n",
      "/storage/silver/stfc_cg/hf832176/data/THEMIS/thc_mag.pkl\r\n",
      "/storage/silver/stfc_cg/hf832176/data/THEMIS/thc.pkl\r\n",
      "/storage/silver/stfc_cg/hf832176/data/THEMIS/thd_mag.pkl\r\n",
      "/storage/silver/stfc_cg/hf832176/data/THEMIS/thd.pkl\r\n",
      "/storage/silver/stfc_cg/hf832176/data/THEMIS/the_mag.pkl\r\n",
      "/storage/silver/stfc_cg/hf832176/data/THEMIS/the.pkl\r\n"
     ]
    }
   ],
   "source": [
    "!ls {base_f_loc}*.pkl"
   ]
  },
  {
   "cell_type": "code",
   "execution_count": 4,
   "metadata": {
    "ExecuteTime": {
     "end_time": "2020-04-22T15:36:30.850573Z",
     "start_time": "2020-04-22T15:36:30.698428Z"
    }
   },
   "outputs": [
    {
     "data": {
      "text/html": [
       "<div>\n",
       "<style scoped>\n",
       "    .dataframe tbody tr th:only-of-type {\n",
       "        vertical-align: middle;\n",
       "    }\n",
       "\n",
       "    .dataframe tbody tr th {\n",
       "        vertical-align: top;\n",
       "    }\n",
       "\n",
       "    .dataframe thead th {\n",
       "        text-align: right;\n",
       "    }\n",
       "</style>\n",
       "<table border=\"1\" class=\"dataframe\">\n",
       "  <thead>\n",
       "    <tr style=\"text-align: right;\">\n",
       "      <th></th>\n",
       "      <th>31000.0</th>\n",
       "      <th>41000.0</th>\n",
       "      <th>52000.0</th>\n",
       "      <th>65500.0</th>\n",
       "      <th>93000.0</th>\n",
       "      <th>139000.0</th>\n",
       "      <th>203500.0</th>\n",
       "      <th>293000.0</th>\n",
       "      <th>408000.0</th>\n",
       "      <th>561500.0</th>\n",
       "      <th>719500.0</th>\n",
       "      <th>NaN</th>\n",
       "      <th>NaN</th>\n",
       "      <th>NaN</th>\n",
       "      <th>NaN</th>\n",
       "      <th>NaN</th>\n",
       "    </tr>\n",
       "  </thead>\n",
       "  <tbody>\n",
       "    <tr>\n",
       "      <th>eV</th>\n",
       "      <td>0</td>\n",
       "      <td>1</td>\n",
       "      <td>2</td>\n",
       "      <td>3</td>\n",
       "      <td>4</td>\n",
       "      <td>5</td>\n",
       "      <td>6</td>\n",
       "      <td>7</td>\n",
       "      <td>8</td>\n",
       "      <td>9</td>\n",
       "      <td>10</td>\n",
       "      <td>11</td>\n",
       "      <td>12</td>\n",
       "      <td>13</td>\n",
       "      <td>14</td>\n",
       "      <td>15</td>\n",
       "    </tr>\n",
       "  </tbody>\n",
       "</table>\n",
       "</div>"
      ],
      "text/plain": [
       "    31000.0   41000.0   52000.0   65500.0   93000.0   139000.0  203500.0  \\\n",
       "eV         0         1         2         3         4         5         6   \n",
       "\n",
       "    293000.0  408000.0  561500.0  719500.0  NaN       NaN       NaN       \\\n",
       "eV         7         8         9        10        11        12        13   \n",
       "\n",
       "    NaN       NaN       \n",
       "eV        14        15  "
      ]
     },
     "metadata": {},
     "output_type": "display_data"
    },
    {
     "data": {
      "text/html": [
       "<div>\n",
       "<style scoped>\n",
       "    .dataframe tbody tr th:only-of-type {\n",
       "        vertical-align: middle;\n",
       "    }\n",
       "\n",
       "    .dataframe tbody tr th {\n",
       "        vertical-align: top;\n",
       "    }\n",
       "\n",
       "    .dataframe thead th {\n",
       "        text-align: right;\n",
       "    }\n",
       "</style>\n",
       "<table border=\"1\" class=\"dataframe\">\n",
       "  <thead>\n",
       "    <tr style=\"text-align: right;\">\n",
       "      <th></th>\n",
       "      <th>31766.636719</th>\n",
       "      <th>26831.396484</th>\n",
       "      <th>20383.251953</th>\n",
       "      <th>15484.854492</th>\n",
       "      <th>11763.428711</th>\n",
       "      <th>8936.366211</th>\n",
       "      <th>6788.923828</th>\n",
       "      <th>5157.255371</th>\n",
       "      <th>3917.749512</th>\n",
       "      <th>2976.849854</th>\n",
       "      <th>...</th>\n",
       "      <th>83.861748</th>\n",
       "      <th>63.502251</th>\n",
       "      <th>48.474998</th>\n",
       "      <th>36.841000</th>\n",
       "      <th>28.115499</th>\n",
       "      <th>20.844250</th>\n",
       "      <th>15.996750</th>\n",
       "      <th>12.603500</th>\n",
       "      <th>9.210250</th>\n",
       "      <th>7.271250</th>\n",
       "    </tr>\n",
       "  </thead>\n",
       "  <tbody>\n",
       "    <tr>\n",
       "      <th>eV</th>\n",
       "      <td>0</td>\n",
       "      <td>1</td>\n",
       "      <td>2</td>\n",
       "      <td>3</td>\n",
       "      <td>4</td>\n",
       "      <td>5</td>\n",
       "      <td>6</td>\n",
       "      <td>7</td>\n",
       "      <td>8</td>\n",
       "      <td>9</td>\n",
       "      <td>...</td>\n",
       "      <td>22</td>\n",
       "      <td>23</td>\n",
       "      <td>24</td>\n",
       "      <td>25</td>\n",
       "      <td>26</td>\n",
       "      <td>27</td>\n",
       "      <td>28</td>\n",
       "      <td>29</td>\n",
       "      <td>30</td>\n",
       "      <td>31</td>\n",
       "    </tr>\n",
       "  </tbody>\n",
       "</table>\n",
       "<p>1 rows × 32 columns</p>\n",
       "</div>"
      ],
      "text/plain": [
       "    31766.636719  26831.396484  20383.251953  15484.854492  11763.428711  \\\n",
       "eV             0             1             2             3             4   \n",
       "\n",
       "    8936.366211   6788.923828   5157.255371   3917.749512   2976.849854   ...  \\\n",
       "eV             5             6             7             8             9  ...   \n",
       "\n",
       "    83.861748     63.502251     48.474998     36.841000     28.115499     \\\n",
       "eV            22            23            24            25            26   \n",
       "\n",
       "    20.844250     15.996750     12.603500     9.210250      7.271250      \n",
       "eV            27            28            29            30            31  \n",
       "\n",
       "[1 rows x 32 columns]"
      ]
     },
     "metadata": {},
     "output_type": "display_data"
    }
   ],
   "source": [
    "e_levs_sst = pd.read_pickle(base_f_loc+'tha_sst_energy_levels.pkl')\n",
    "display(e_levs_sst.T)\n",
    "e_levs_esa = pd.read_pickle(base_f_loc+'tha_esa_energy_levels.pkl')\n",
    "display(e_levs_esa.T)\n",
    "\n",
    "e_levs = [i for i in e_levs_esa.index[::-1]]+[i for i in e_levs_sst.index]\n",
    "# display(e_levs)"
   ]
  },
  {
   "cell_type": "code",
   "execution_count": 5,
   "metadata": {
    "ExecuteTime": {
     "end_time": "2020-04-22T15:36:37.644351Z",
     "start_time": "2020-04-22T15:36:30.852090Z"
    },
    "code_folding": []
   },
   "outputs": [],
   "source": [
    "# Read .pkl files\n",
    "tha = pd.read_pickle(base_f_loc+'tha.pkl')\n",
    "thb = pd.read_pickle(base_f_loc+'thb.pkl')\n",
    "thc = pd.read_pickle(base_f_loc+'thc.pkl')\n",
    "thd = pd.read_pickle(base_f_loc+'thd.pkl')\n",
    "the = pd.read_pickle(base_f_loc+'the.pkl')"
   ]
  },
  {
   "cell_type": "code",
   "execution_count": 6,
   "metadata": {
    "ExecuteTime": {
     "end_time": "2020-04-22T15:36:39.725687Z",
     "start_time": "2020-04-22T15:36:37.645896Z"
    },
    "code_folding": []
   },
   "outputs": [],
   "source": [
    "# reorder sst columns by ascending energy\n",
    "cols = tha.columns.tolist()[:32][::-1]+['E_'+str(i+1) for i in range(16)]+tha.columns.tolist()[48:]\n",
    "tha = tha[cols]\n",
    "thb = thb[cols]\n",
    "thc = thc[cols]\n",
    "thd = thd[cols]\n",
    "the = the[cols]\n",
    "\n",
    "# Reorder esa columns by ascending energy\n",
    "tha.columns = ['esa_E_'+str(i+1) for i in range(32)]+tha.columns.tolist()[32:]\n",
    "thb.columns = ['esa_E_'+str(i+1) for i in range(32)]+tha.columns.tolist()[32:]\n",
    "thc.columns = ['esa_E_'+str(i+1) for i in range(32)]+tha.columns.tolist()[32:]\n",
    "thd.columns = ['esa_E_'+str(i+1) for i in range(32)]+tha.columns.tolist()[32:]\n",
    "the.columns = ['esa_E_'+str(i+1) for i in range(32)]+tha.columns.tolist()[32:]"
   ]
  },
  {
   "cell_type": "markdown",
   "metadata": {},
   "source": [
    "# <center> Transform Data to GSM Coordinates </center>"
   ]
  },
  {
   "cell_type": "code",
   "execution_count": 7,
   "metadata": {
    "ExecuteTime": {
     "end_time": "2020-04-22T15:36:39.735665Z",
     "start_time": "2020-04-22T15:36:39.726937Z"
    },
    "code_folding": [
     0
    ]
   },
   "outputs": [],
   "source": [
    "# Coordinate transform\n",
    "def get_c_init(spacecraft):\n",
    "    '''\n",
    "    Given a THEMIS spacecraft dataframe, function\n",
    "    extracts and formats the GSM position into list\n",
    "    of [x,y,z]\n",
    "       \n",
    "    Returns list'''\n",
    "    my_coords = [np.array([x,y,z])/6378.1\n",
    "                 for x,y,z in zip(spacecraft['pos_x_gsm'],\n",
    "                                  spacecraft['pos_y_gsm'],\n",
    "                                  spacecraft['pos_z_gsm'])]\n",
    "    return my_coords\n",
    "\n",
    "def tttime(spacecraft):\n",
    "    '''Converting from datetimes to Ticktock times\n",
    "       \n",
    "       Returns Ticktock time list'''\n",
    "    tt = Ticktock([i for i in spacecraft.index], dtype='UTC')\n",
    "    return tt\n",
    "\n",
    "def get_c_final(spacecraft):\n",
    "    '''\n",
    "    Converts the GSM coordinates into GMAG coordinates.\n",
    "    Returns GMAG in cartesian and spherical coordinates\n",
    "    '''\n",
    "    my_coords = get_c_init(spacecraft)\n",
    "    cvals = coord.Coords(data = my_coords,\n",
    "                         dtype = 'GSM',\n",
    "                         carsph = 'car',\n",
    "                         units = ['Re', 'Re', 'Re'])\n",
    "    \n",
    "    cvals.ticks = tttime(spacecraft)\n",
    "    newcvals = cvals.convert('MAG', 'car')\n",
    "    mltcvals = cvals.convert('MAG', 'sph')\n",
    "    return (newcvals,mltcvals)\n",
    "\n",
    "def c_to_df(spacecraft,scstr,base_f_loc):\n",
    "    '''\n",
    "    Extracts the x, y and z and r, lat, lon coordinates from\n",
    "    the conversion.\n",
    "    Calculates MLT from the longitute.\n",
    "    Appends data to DFs and saves DFs\n",
    "    '''\n",
    "    newcvals, mltcvals = get_c_final(spacecraft)\n",
    "    \n",
    "    pos_x_mag = newcvals.x\n",
    "    pos_y_mag = newcvals.y\n",
    "    pos_z_mag = newcvals.z\n",
    "\n",
    "    pos_r_mag = mltcvals.radi\n",
    "    pos_lat_mag = mltcvals.lati\n",
    "    pos_lon_mag = mltcvals.long\n",
    "\n",
    "    mlt_mag = [i*12/180 if i >= 0 else (12+np.abs(i)*12/180) for i in pos_lon_mag]\n",
    "    \n",
    "    var_names = ['pos_x_mag','pos_y_mag','pos_z_mag',\n",
    "                 'pos_r_mag','pos_lat_mag','pos_lon_mag',\n",
    "                 'mlt_mag']\n",
    "    variables = [pos_x_mag,pos_y_mag,pos_z_mag,\n",
    "                 pos_r_mag,pos_lat_mag,pos_lon_mag,\n",
    "                 mlt_mag]\n",
    "    \n",
    "    for i,j in zip(var_names,variables):\n",
    "        spacecraft[i] = j\n",
    "        \n",
    "    spacecraft.to_pickle(base_f_loc+scstr+'_mag.pkl')\n",
    "\n",
    "    return spacecraft"
   ]
  },
  {
   "cell_type": "code",
   "execution_count": 8,
   "metadata": {
    "ExecuteTime": {
     "end_time": "2020-04-22T15:38:35.287920Z",
     "start_time": "2020-04-22T15:36:39.737882Z"
    }
   },
   "outputs": [],
   "source": [
    "tha = c_to_df(tha,'tha',base_f_loc)\n",
    "thb = c_to_df(thb,'thb',base_f_loc)\n",
    "thc = c_to_df(thc,'thc',base_f_loc)\n",
    "thd = c_to_df(thd,'thd',base_f_loc)\n",
    "the = c_to_df(the,'the',base_f_loc)"
   ]
  },
  {
   "cell_type": "markdown",
   "metadata": {},
   "source": [
    "# <center> Transform Differential Flux to PSD </center>"
   ]
  },
  {
   "cell_type": "code",
   "execution_count": 9,
   "metadata": {
    "ExecuteTime": {
     "end_time": "2020-04-22T15:38:35.294499Z",
     "start_time": "2020-04-22T15:38:35.289765Z"
    },
    "code_folding": [
     0
    ]
   },
   "outputs": [],
   "source": [
    "# DEF to PSD\n",
    "def def_2_psd(defs,e_channel):\n",
    "    m_e = 9.1093*10**-31\n",
    "    c = 299792458\n",
    "    eV = 1.602*10**-19\n",
    "    \n",
    "    defs = np.array(defs)\n",
    "    defs_si = defs/(10**-6)\n",
    "    \n",
    "    energy = e_channel*eV\n",
    "    \n",
    "    psd = (defs_si*(c**2))/((energy**2)+2*m_e*(c**2)*energy)\n",
    "    \n",
    "    return psd\n",
    "\n",
    "def psd_to_df(df,e_levels):\n",
    "    for i in range(len(e_levels)):\n",
    "        column = df.columns[i]\n",
    "        at_energy = e_levels[i]\n",
    "        df[column+'_psd'] = def_2_psd(df[column],at_energy)\n",
    "        \n",
    "    return df"
   ]
  },
  {
   "cell_type": "code",
   "execution_count": 10,
   "metadata": {
    "ExecuteTime": {
     "end_time": "2020-04-22T15:38:36.775489Z",
     "start_time": "2020-04-22T15:38:35.295574Z"
    }
   },
   "outputs": [],
   "source": [
    "tha = psd_to_df(tha,e_levs)\n",
    "thb = psd_to_df(thb,e_levs)\n",
    "thc = psd_to_df(thc,e_levs)\n",
    "thd = psd_to_df(thd,e_levs)\n",
    "the = psd_to_df(the,e_levs)"
   ]
  },
  {
   "cell_type": "markdown",
   "metadata": {},
   "source": [
    "$\\theta$ increases clockwise for y>0 between 0 and 180\n",
    "\n",
    "$\\theta$ decreases anti-clockwise for y<0 between 0 and -180"
   ]
  },
  {
   "cell_type": "markdown",
   "metadata": {},
   "source": [
    "# <center> Select Equatorial Data </center>\n",
    "\n",
    "For analysis, data is limited to the equatorial plane and radial limits about an estimate of the ORB boundary.\n",
    "\n",
    "Equatorial region: Z = 0 $\\pm$ 0.5 R$_E$.\n",
    "\n",
    "Radial limits: 5 R$_E$ $\\leqslant$ R $\\leqslant$ 15 R$_E$\n",
    "\n",
    "Dawn (Dusk): 6 (18) $\\pm$ 3 MLT "
   ]
  },
  {
   "cell_type": "code",
   "execution_count": 11,
   "metadata": {
    "ExecuteTime": {
     "end_time": "2020-04-22T15:38:36.780845Z",
     "start_time": "2020-04-22T15:38:36.776709Z"
    },
    "code_folding": []
   },
   "outputs": [],
   "source": [
    "def how_much(df):\n",
    "    equa_r = df[(np.abs(df['pos_z_mag'])<0.5) &\n",
    "                 (df['pos_r_mag'] >= 5) & (df['pos_r_mag'] <= 15)]\n",
    "    dawn = equa_r[(3 <= equa_r['mlt_mag']) &\n",
    "                  (equa_r['mlt_mag'] <= 9)]\n",
    "    dusk = equa_r[(15 <= equa_r['mlt_mag']) &\n",
    "                  (equa_r['mlt_mag'] <= 21)]\n",
    "    print('DF: '+str(len(df)),'EQR: '+str(len(equa_r)),'Dawn: '+str(len(dawn)),'Dusk: '+str(len(dusk)))\n",
    "    return dawn,dusk"
   ]
  },
  {
   "cell_type": "code",
   "execution_count": 12,
   "metadata": {
    "ExecuteTime": {
     "end_time": "2020-04-22T15:38:39.507982Z",
     "start_time": "2020-04-22T15:38:36.782082Z"
    }
   },
   "outputs": [
    {
     "name": "stdout",
     "output_type": "stream",
     "text": [
      "DF: 445922 EQR: 97071 Dawn: 24391 Dusk: 22219\n",
      "DF: 445520 EQR: 6904 Dawn: 1770 Dusk: 2697\n",
      "DF: 445921 EQR: 22647 Dawn: 7929 Dusk: 10586\n",
      "DF: 445920 EQR: 74799 Dawn: 29210 Dusk: 44490\n",
      "DF: 445922 EQR: 58729 Dawn: 8492 Dusk: 40596\n"
     ]
    }
   ],
   "source": [
    "a_dawn, a_dusk = how_much(tha)\n",
    "b_dawn, b_dusk = how_much(thb)\n",
    "c_dawn, c_dusk = how_much(thc)\n",
    "d_dawn, d_dusk = how_much(thd)\n",
    "e_dawn, e_dusk = how_much(the)"
   ]
  },
  {
   "cell_type": "code",
   "execution_count": 13,
   "metadata": {
    "ExecuteTime": {
     "end_time": "2020-04-22T15:38:39.581578Z",
     "start_time": "2020-04-22T15:38:39.509224Z"
    },
    "scrolled": true
   },
   "outputs": [
    {
     "name": "stdout",
     "output_type": "stream",
     "text": [
      "(71792, 119) (120588, 119)\n"
     ]
    }
   ],
   "source": [
    "dawn = pd.concat([a_dawn,b_dawn,c_dawn,d_dawn,e_dawn],axis=0,\n",
    "                 sort=False,ignore_index=False)\n",
    "dusk = pd.concat([a_dusk,b_dusk,c_dusk,d_dusk,e_dusk],axis=0,\n",
    "                 sort=False,ignore_index=False)\n",
    "print(dawn.shape,dusk.shape)"
   ]
  },
  {
   "cell_type": "markdown",
   "metadata": {},
   "source": [
    "Note:\n",
    "\n",
    "Checking the date ranges for Dawn and Dusk shows that they haven't been swapped around during processing."
   ]
  },
  {
   "cell_type": "code",
   "execution_count": 14,
   "metadata": {
    "ExecuteTime": {
     "end_time": "2020-04-22T15:38:39.710905Z",
     "start_time": "2020-04-22T15:38:39.582825Z"
    },
    "code_folding": [],
    "scrolled": true
   },
   "outputs": [],
   "source": [
    "# Reordering PSD\n",
    "subset = ['esa_E_1_psd', 'esa_E_2_psd', 'esa_E_3_psd', 'esa_E_4_psd',\n",
    "          'esa_E_5_psd', 'esa_E_6_psd', 'esa_E_7_psd', 'esa_E_8_psd',\n",
    "          'esa_E_9_psd', 'esa_E_10_psd', 'esa_E_11_psd', 'esa_E_12_psd',\n",
    "          'esa_E_13_psd', 'esa_E_14_psd', 'esa_E_15_psd', 'esa_E_16_psd',\n",
    "          'esa_E_17_psd', 'esa_E_18_psd', 'esa_E_19_psd', 'esa_E_20_psd',\n",
    "          'esa_E_21_psd', 'esa_E_22_psd', 'esa_E_23_psd', 'esa_E_24_psd',\n",
    "          'esa_E_25_psd', 'esa_E_26_psd', 'esa_E_27_psd', 'esa_E_28_psd',\n",
    "          'esa_E_29_psd', 'esa_E_30_psd', 'esa_E_31_psd',\n",
    "          'E_1_psd', 'E_2_psd', 'E_3_psd', 'E_4_psd', 'E_5_psd', 'E_6_psd',\n",
    "          'E_7_psd', 'E_8_psd', 'E_9_psd', 'E_10_psd', 'E_11_psd']\n",
    "dawn_f = dawn.dropna(subset=subset)\n",
    "dusk_f = dusk.dropna(subset=subset)\n",
    "\n",
    "dawn_f2 = dawn_f.drop(columns=['E_12_psd','E_13_psd','E_14_psd','E_15_psd',\n",
    "                               'E_16_psd','esa_E_32_psd']).copy()\n",
    "dusk_f2 = dusk_f.drop(columns=['E_12_psd','E_13_psd','E_14_psd','E_15_psd',\n",
    "                               'E_16_psd','esa_E_32_psd']).copy()\n",
    "\n",
    "e_levs2 = e_levs.copy()\n",
    "e_levs2 = e_levs2[:31] + e_levs2[32:-5]"
   ]
  },
  {
   "cell_type": "code",
   "execution_count": 18,
   "metadata": {
    "ExecuteTime": {
     "end_time": "2020-04-22T15:40:43.476581Z",
     "start_time": "2020-04-22T15:40:42.336811Z"
    }
   },
   "outputs": [],
   "source": [
    "dawn_f2.to_pickle(base_f_loc+'dawn_f2')\n",
    "dusk_f2.to_pickle(base_f_loc+'dusk_f2')"
   ]
  },
  {
   "cell_type": "code",
   "execution_count": null,
   "metadata": {},
   "outputs": [],
   "source": []
  }
 ],
 "metadata": {
  "kernelspec": {
   "display_name": "Python 3",
   "language": "python",
   "name": "python3"
  },
  "language_info": {
   "codemirror_mode": {
    "name": "ipython",
    "version": 3
   },
   "file_extension": ".py",
   "mimetype": "text/x-python",
   "name": "python",
   "nbconvert_exporter": "python",
   "pygments_lexer": "ipython3",
   "version": "3.8.1"
  },
  "varInspector": {
   "cols": {
    "lenName": 16,
    "lenType": 16,
    "lenVar": 40
   },
   "kernels_config": {
    "python": {
     "delete_cmd_postfix": "",
     "delete_cmd_prefix": "del ",
     "library": "var_list.py",
     "varRefreshCmd": "print(var_dic_list())"
    },
    "r": {
     "delete_cmd_postfix": ") ",
     "delete_cmd_prefix": "rm(",
     "library": "var_list.r",
     "varRefreshCmd": "cat(var_dic_list()) "
    }
   },
   "types_to_exclude": [
    "module",
    "function",
    "builtin_function_or_method",
    "instance",
    "_Feature"
   ],
   "window_display": false
  }
 },
 "nbformat": 4,
 "nbformat_minor": 2
}
