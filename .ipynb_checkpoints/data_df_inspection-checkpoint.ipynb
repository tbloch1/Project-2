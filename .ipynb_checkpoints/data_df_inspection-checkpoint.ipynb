{
 "cells": [
  {
   "cell_type": "code",
   "execution_count": 1,
   "metadata": {
    "ExecuteTime": {
     "end_time": "2019-09-11T15:20:44.140518Z",
     "start_time": "2019-09-11T15:20:42.609290Z"
    }
   },
   "outputs": [],
   "source": [
    "import pandas as pd\n",
    "import numpy as np\n",
    "import datetime as dt"
   ]
  },
  {
   "cell_type": "code",
   "execution_count": 2,
   "metadata": {
    "ExecuteTime": {
     "end_time": "2019-09-11T15:20:44.147924Z",
     "start_time": "2019-09-11T15:20:44.144130Z"
    }
   },
   "outputs": [],
   "source": [
    "base_f_loc = '/storage/silver/stfc_cg/hf832176/data/THEMIS/'"
   ]
  },
  {
   "cell_type": "markdown",
   "metadata": {},
   "source": [
    "# <center> Read in Data </center>"
   ]
  },
  {
   "cell_type": "code",
   "execution_count": 3,
   "metadata": {
    "ExecuteTime": {
     "end_time": "2019-09-11T15:20:44.355424Z",
     "start_time": "2019-09-11T15:20:44.150420Z"
    }
   },
   "outputs": [
    {
     "name": "stdout",
     "output_type": "stream",
     "text": [
      "ls: cannot access /storage/silver/stfc_cg/hf832176/data/THEMIS/*.pkl: No such file or directory\r\n"
     ]
    }
   ],
   "source": [
    "!ls {base_f_loc}*.pkl"
   ]
  },
  {
   "cell_type": "code",
   "execution_count": 4,
   "metadata": {
    "ExecuteTime": {
     "end_time": "2019-09-11T15:20:44.406960Z",
     "start_time": "2019-09-11T15:20:44.361134Z"
    }
   },
   "outputs": [
    {
     "data": {
      "text/html": [
       "<div>\n",
       "<style scoped>\n",
       "    .dataframe tbody tr th:only-of-type {\n",
       "        vertical-align: middle;\n",
       "    }\n",
       "\n",
       "    .dataframe tbody tr th {\n",
       "        vertical-align: top;\n",
       "    }\n",
       "\n",
       "    .dataframe thead th {\n",
       "        text-align: right;\n",
       "    }\n",
       "</style>\n",
       "<table border=\"1\" class=\"dataframe\">\n",
       "  <thead>\n",
       "    <tr style=\"text-align: right;\">\n",
       "      <th></th>\n",
       "      <th>31000.0</th>\n",
       "      <th>41000.0</th>\n",
       "      <th>52000.0</th>\n",
       "      <th>65500.0</th>\n",
       "      <th>93000.0</th>\n",
       "      <th>139000.0</th>\n",
       "      <th>203500.0</th>\n",
       "      <th>293000.0</th>\n",
       "      <th>408000.0</th>\n",
       "      <th>561500.0</th>\n",
       "      <th>719500.0</th>\n",
       "      <th>nan</th>\n",
       "      <th>nan</th>\n",
       "      <th>nan</th>\n",
       "      <th>nan</th>\n",
       "      <th>nan</th>\n",
       "    </tr>\n",
       "  </thead>\n",
       "  <tbody>\n",
       "    <tr>\n",
       "      <th>eV</th>\n",
       "      <td>0</td>\n",
       "      <td>1</td>\n",
       "      <td>2</td>\n",
       "      <td>3</td>\n",
       "      <td>4</td>\n",
       "      <td>5</td>\n",
       "      <td>6</td>\n",
       "      <td>7</td>\n",
       "      <td>8</td>\n",
       "      <td>9</td>\n",
       "      <td>10</td>\n",
       "      <td>11</td>\n",
       "      <td>12</td>\n",
       "      <td>13</td>\n",
       "      <td>14</td>\n",
       "      <td>15</td>\n",
       "    </tr>\n",
       "  </tbody>\n",
       "</table>\n",
       "</div>"
      ],
      "text/plain": [
       "    31000.0   41000.0   52000.0   65500.0   93000.0   139000.0  203500.0  \\\n",
       "eV         0         1         2         3         4         5         6   \n",
       "\n",
       "    293000.0  408000.0  561500.0  719500.0  NaN       NaN       NaN       \\\n",
       "eV         7         8         9        10        11        12        13   \n",
       "\n",
       "    NaN       NaN       \n",
       "eV        14        15  "
      ]
     },
     "execution_count": 4,
     "metadata": {},
     "output_type": "execute_result"
    }
   ],
   "source": [
    "e_levs = pd.read_pickle(base_f_loc+'tha_sst_energy_levels.pkl')\n",
    "e_levs.T"
   ]
  },
  {
   "cell_type": "code",
   "execution_count": 5,
   "metadata": {
    "ExecuteTime": {
     "end_time": "2019-09-11T15:20:44.646107Z",
     "start_time": "2019-09-11T15:20:44.410808Z"
    },
    "code_folding": [
     0
    ]
   },
   "outputs": [],
   "source": [
    "# Read .pkl files\n",
    "tha = pd.read_pickle(base_f_loc+'tha.pkl')\n",
    "thb = pd.read_pickle(base_f_loc+'thb.pkl')\n",
    "thc = pd.read_pickle(base_f_loc+'thc.pkl')\n",
    "thd = pd.read_pickle(base_f_loc+'thd.pkl')\n",
    "the = pd.read_pickle(base_f_loc+'the.pkl')"
   ]
  },
  {
   "cell_type": "code",
   "execution_count": 6,
   "metadata": {
    "ExecuteTime": {
     "end_time": "2019-09-11T15:20:44.762432Z",
     "start_time": "2019-09-11T15:20:44.648171Z"
    },
    "code_folding": [
     0
    ]
   },
   "outputs": [],
   "source": [
    "# reorder columns by ascending energy\n",
    "cols = ['E_'+str(i+1) for i in range(16)]+tha.columns.tolist()[16:]\n",
    "tha = tha[cols]\n",
    "thb = thb[cols]\n",
    "thc = thc[cols]\n",
    "thd = thd[cols]\n",
    "the = the[cols]"
   ]
  },
  {
   "cell_type": "markdown",
   "metadata": {},
   "source": [
    "# <center> Select Equatorial Data </center>\n",
    "\n",
    "For analysis, data is limited to the equatorial plane and radial limits about an estimate of the ORB boundary.\n",
    "\n",
    "Equatorial region: Z = 0 $\\pm$ 0.5 R$_E$.\n",
    "\n",
    "Radial limits: 7 R$_E$ $\\leqslant$ R $\\leqslant$ 12 R$_E$\n",
    "\n",
    "Dawn (Dusk): 6 (18) $\\pm$ 3 MLT "
   ]
  },
  {
   "cell_type": "code",
   "execution_count": 7,
   "metadata": {
    "ExecuteTime": {
     "end_time": "2019-09-11T15:20:44.771115Z",
     "start_time": "2019-09-11T15:20:44.764705Z"
    },
    "code_folding": []
   },
   "outputs": [],
   "source": [
    "def how_much(df):\n",
    "    equa_r = df[(np.abs(df['pos_z_gsm']/6378.1)<0.5) &\n",
    "                 (df['r'] >= 7) & (df['r'] <= 10)]\n",
    "    dawn = equa_r[(3 <= equa_r['mlt']) &\n",
    "                  (equa_r['mlt'] <= 9)]\n",
    "    dusk = equa_r[(15 <= equa_r['mlt']) &\n",
    "                  (equa_r['mlt'] <= 21)]\n",
    "    print('DF: '+str(len(df)),'EQR: '+str(len(equa_r)),'Dawn: '+str(len(dawn)),'Dusk: '+str(len(dusk)))\n",
    "    return dawn,dusk"
   ]
  },
  {
   "cell_type": "code",
   "execution_count": 8,
   "metadata": {
    "ExecuteTime": {
     "end_time": "2019-09-11T15:20:44.842021Z",
     "start_time": "2019-09-11T15:20:44.773086Z"
    }
   },
   "outputs": [
    {
     "name": "stdout",
     "output_type": "stream",
     "text": [
      "DF: 124801 EQR: 7089 Dawn: 1176 Dusk: 2754\n",
      "DF: 124801 EQR: 917 Dawn: 339 Dusk: 170\n",
      "DF: 124801 EQR: 2226 Dawn: 696 Dusk: 432\n",
      "DF: 124801 EQR: 9344 Dawn: 2794 Dusk: 2909\n",
      "DF: 124801 EQR: 7246 Dawn: 1734 Dusk: 2020\n"
     ]
    }
   ],
   "source": [
    "a_dawn, a_dusk = how_much(tha)\n",
    "b_dawn, b_dusk = how_much(thb)\n",
    "c_dawn, c_dusk = how_much(thc)\n",
    "d_dawn, d_dusk = how_much(thd)\n",
    "e_dawn, e_dusk = how_much(the)"
   ]
  },
  {
   "cell_type": "code",
   "execution_count": 9,
   "metadata": {
    "ExecuteTime": {
     "end_time": "2019-09-11T15:20:44.864482Z",
     "start_time": "2019-09-11T15:20:44.844892Z"
    },
    "scrolled": true
   },
   "outputs": [
    {
     "name": "stdout",
     "output_type": "stream",
     "text": [
      "(6739, 31) (8285, 31)\n"
     ]
    }
   ],
   "source": [
    "dawn = pd.concat([a_dawn,b_dawn,c_dawn,d_dawn,e_dawn],axis=0,\n",
    "                 sort=False,ignore_index=False)\n",
    "dusk = pd.concat([a_dusk,b_dusk,c_dusk,d_dusk,e_dusk],axis=0,\n",
    "                 sort=False,ignore_index=False)\n",
    "print(dawn.shape,dusk.shape)"
   ]
  },
  {
   "cell_type": "markdown",
   "metadata": {},
   "source": [
    "Note:\n",
    "\n",
    "Checking the date ranges for Dawn and Dusk shows that they haven't been swapped around during processing."
   ]
  },
  {
   "cell_type": "markdown",
   "metadata": {},
   "source": [
    "# <center> Plotting Data </center>"
   ]
  },
  {
   "cell_type": "code",
   "execution_count": 10,
   "metadata": {
    "ExecuteTime": {
     "end_time": "2019-09-11T15:20:46.180463Z",
     "start_time": "2019-09-11T15:20:44.867237Z"
    }
   },
   "outputs": [],
   "source": [
    "import matplotlib.pyplot as plt\n",
    "from mpl_toolkits import mplot3d\n",
    "from matplotlib import cm\n",
    "import seaborn as sbn"
   ]
  },
  {
   "cell_type": "code",
   "execution_count": 11,
   "metadata": {
    "ExecuteTime": {
     "end_time": "2019-09-11T15:20:47.026262Z",
     "start_time": "2019-09-11T15:20:46.183788Z"
    },
    "code_folding": [
     0
    ]
   },
   "outputs": [
    {
     "data": {
      "image/png": "[encoded data removed]",
      "text/plain": [
       "<Figure size 1008x252 with 2 Axes>"
      ]
     },
     "metadata": {
      "needs_background": "light"
     },
     "output_type": "display_data"
    }
   ],
   "source": [
    "# Plotting distributions of the log10(DEF) for subset energies.\n",
    "# for subset of energies\n",
    "plt.figure(figsize=(14,3.5))\n",
    "ax1 = plt.subplot(121)\n",
    "ax2 = plt.subplot(122)\n",
    "\n",
    "ylim1 = []\n",
    "for i in tha.columns[4:9]:\n",
    "    test1 = dawn[i].replace(0,np.nan).dropna()\n",
    "        \n",
    "    hist1 = ax1.hist(np.log10(test1),bins=100,histtype='step',\n",
    "                    label=i+': '+\"{:.2E}\".format(test1.median()))\n",
    "    ylim1.append(hist1[0].max())\n",
    "    \n",
    "ax1.set_title('Dawn')\n",
    "ax1.legend(loc='upper left',frameon=False)\n",
    "ax1.set_xlim(0,8)\n",
    "ax1.set_ylabel('Counts')\n",
    "ax1.set_xlabel('Log$_{10}$(DEF)')\n",
    "sbn.despine()\n",
    "\n",
    "############\n",
    "\n",
    "ylim2 = []\n",
    "for i in tha.columns[4:9]:\n",
    "    test2 = dusk[i].replace(0,np.nan).dropna()\n",
    "        \n",
    "    hist2 = ax2.hist(np.log10(test2),bins=100,histtype='step',\n",
    "                     label=i+': '+\"{:.2E}\".format(test2.median()))\n",
    "    ylim2.append(hist2[0].max())\n",
    "        \n",
    "ax2.set_title('Dusk')\n",
    "ax2.legend(loc='upper left',frameon=False)\n",
    "ax2.set_xlim(0,8)\n",
    "ax2.set_ylabel('Counts')\n",
    "ax2.set_xlabel('Log$_{10}$(DEF)')\n",
    "sbn.despine()\n",
    "\n",
    "ylim = max(ylim1+ylim2)\n",
    "ax1.set_ylim(0,ylim*1.1)\n",
    "ax2.set_ylim(0,ylim*1.1)\n",
    "plt.show()"
   ]
  },
  {
   "cell_type": "code",
   "execution_count": 12,
   "metadata": {
    "ExecuteTime": {
     "end_time": "2019-09-11T15:20:47.776280Z",
     "start_time": "2019-09-11T15:20:47.028884Z"
    },
    "code_folding": [
     0
    ]
   },
   "outputs": [
    {
     "data": {
      "image/png": "[encoded data removed]",
      "text/plain": [
       "<Figure size 504x252 with 1 Axes>"
      ]
     },
     "metadata": {
      "needs_background": "light"
     },
     "output_type": "display_data"
    },
    {
     "data": {
      "image/png": "[encoded data removed]",
      "text/plain": [
       "<Figure size 504x252 with 1 Axes>"
      ]
     },
     "metadata": {
      "needs_background": "light"
     },
     "output_type": "display_data"
    }
   ],
   "source": [
    "# Plotting boxplots of log10(DEF) for all energies.\n",
    "plt.figure(figsize=(7,3.5))\n",
    "test1 = dawn.iloc[:,0:11].replace(0,np.nan).dropna().values\n",
    "plt.boxplot(np.log10(test1),widths=0.25,sym='')\n",
    "\n",
    "plt.grid(axis='y',alpha=0.5)\n",
    "\n",
    "plt.title('Dawn')\n",
    "plt.ylabel('Log$_{10}$(DEF)')\n",
    "plt.xlabel('Energy Channel')\n",
    "plt.ylim(0,8)\n",
    "sbn.despine()\n",
    "plt.show()\n",
    "\n",
    "#################\n",
    "\n",
    "plt.figure(figsize=(7,3.5))\n",
    "test2 = dusk.iloc[:,0:11].replace(0,np.nan).dropna().values\n",
    "plt.boxplot(np.log10(test2),widths=0.25,sym='')\n",
    "\n",
    "plt.grid(axis='y',alpha=0.5)\n",
    "\n",
    "plt.title('Dusk')\n",
    "plt.ylabel('Log$_{10}$(DEF)')\n",
    "plt.xlabel('Energy Channel')\n",
    "plt.ylim(0,8)\n",
    "sbn.despine()\n",
    "plt.show()"
   ]
  },
  {
   "cell_type": "code",
   "execution_count": 13,
   "metadata": {
    "ExecuteTime": {
     "end_time": "2019-09-11T15:20:47.995712Z",
     "start_time": "2019-09-11T15:20:47.778381Z"
    },
    "code_folding": [
     0
    ]
   },
   "outputs": [
    {
     "name": "stderr",
     "output_type": "stream",
     "text": [
      "/home/users/hf832176/.conda/envs/tb_env5/lib/python3.6/site-packages/numpy/lib/nanfunctions.py:1076: RuntimeWarning: Mean of empty slice\n",
      "  return np.nanmean(a, axis, out=out, keepdims=keepdims)\n"
     ]
    },
    {
     "data": {
      "image/png": "[encoded data removed]",
      "text/plain": [
       "<Figure size 504x252 with 1 Axes>"
      ]
     },
     "metadata": {
      "needs_background": "light"
     },
     "output_type": "display_data"
    }
   ],
   "source": [
    "# Plot of median DEF per energy channel\n",
    "plt.figure(figsize=(7,3.5))\n",
    "\n",
    "plt.plot([i for i in range(16)],\n",
    "        [np.log10(dusk[i].median()) for i in dusk.columns[0:16]],\n",
    "        label='Dusk')\n",
    "plt.plot([i for i in range(16)],\n",
    "        [np.log10(dawn[i].median()) for i in dawn.columns[0:16]],\n",
    "        label='Dawn')\n",
    "\n",
    "plt.legend(loc='lower center',ncol=2,frameon=False)\n",
    "plt.ylabel('Median log$_{10}$(DEF)')\n",
    "plt.xlabel('Energy Channel')\n",
    "\n",
    "tick_l = [i for i in dusk.columns[0:11]]\n",
    "t_loc = [i for i in range(11)]\n",
    "plt.xticks(ticks=t_loc,labels=tick_l)\n",
    "sbn.despine()\n",
    "plt.show()"
   ]
  },
  {
   "cell_type": "code",
   "execution_count": 14,
   "metadata": {
    "ExecuteTime": {
     "end_time": "2019-09-11T15:20:50.186392Z",
     "start_time": "2019-09-11T15:20:47.997593Z"
    },
    "code_folding": []
   },
   "outputs": [
    {
     "data": {
      "image/png": "[encoded data removed]",
      "text/plain": [
       "<Figure size 1008x252 with 2 Axes>"
      ]
     },
     "metadata": {
      "needs_background": "light"
     },
     "output_type": "display_data"
    }
   ],
   "source": [
    "# Plot of the radial dist. of median DEF\n",
    "r_bins = np.linspace(6,10,101)\n",
    "\n",
    "plt.figure(figsize=(14,3.5))\n",
    "ax1 = plt.subplot(121)\n",
    "ax2 = plt.subplot(122)\n",
    "\n",
    "for k in tha.columns[4:9]:\n",
    "    r_def_da = [dawn[(dawn['r'] > i) & (dawn['r'] < j)][k].median()\n",
    "                for i,j in zip(r_bins[:-1],r_bins[1:])]\n",
    "    ax1.step(r_bins[:-1],np.log10(r_def_da),label=k)\n",
    "\n",
    "ax1.grid(axis='y',alpha=0.5)\n",
    "\n",
    "ax1.set_title('Dawn')\n",
    "ax1.legend(loc='lower left',frameon=False)\n",
    "ax1.set_xlabel('Radial Position, GSM, R$_E$')\n",
    "ax1.set_ylabel('Log$_10$(Median DEF)')\n",
    "ax1.set_ylim(3.5,7)\n",
    "\n",
    "###########\n",
    "\n",
    "for k in tha.columns[4:9]:\n",
    "    r_def_du = [dusk[(dusk['r'] > i) & (dusk['r'] < j)][k].median()\n",
    "                for i,j in zip(r_bins[:-1],r_bins[1:])]\n",
    "    ax2.step(r_bins[:-1],np.log10(r_def_du),label=k)\n",
    "\n",
    "ax2.grid(axis='y',alpha=0.5)\n",
    "\n",
    "ax2.set_title('Dusk')\n",
    "ax2.legend(loc='lower left',frameon=False)\n",
    "ax2.set_xlabel('Radial Position, GSM, R$_E$')\n",
    "ax2.set_ylabel('Log$_10$(Median DEF)')\n",
    "ax2.set_ylim(3.5,7)\n",
    "\n",
    "sbn.despine()\n",
    "plt.show()"
   ]
  },
  {
   "cell_type": "code",
   "execution_count": 15,
   "metadata": {
    "ExecuteTime": {
     "end_time": "2019-09-11T15:20:50.466270Z",
     "start_time": "2019-09-11T15:20:50.188349Z"
    },
    "code_folding": []
   },
   "outputs": [
    {
     "data": {
      "image/png": "[encoded data removed]",
      "text/plain": [
       "<Figure size 504x252 with 1 Axes>"
      ]
     },
     "metadata": {
      "needs_background": "light"
     },
     "output_type": "display_data"
    }
   ],
   "source": [
    "# Plotting distributions of the radial distance.\n",
    "plt.figure(figsize=(7,3.5))\n",
    "ax1 = plt.subplot(111)\n",
    "\n",
    "ax1.hist(dawn['r'],bins=100,histtype='step',\n",
    "         label='Dawn')\n",
    "ax1.hist(dusk['r'],bins=100,histtype='step',\n",
    "         label='Dusk')\n",
    "\n",
    "\n",
    "ax1.legend(loc='upper left',frameon=False)\n",
    "ax1.set_ylabel('Counts')\n",
    "ax1.set_xlabel('Radial Distance')\n",
    "sbn.despine()"
   ]
  },
  {
   "cell_type": "markdown",
   "metadata": {},
   "source": [
    "# <center> Kolmogorov-Smirnov Statistic </center>"
   ]
  },
  {
   "cell_type": "code",
   "execution_count": 16,
   "metadata": {
    "ExecuteTime": {
     "end_time": "2019-09-11T15:20:50.470602Z",
     "start_time": "2019-09-11T15:20:50.467897Z"
    }
   },
   "outputs": [],
   "source": [
    "from scipy.stats import ks_2samp as kss"
   ]
  },
  {
   "cell_type": "code",
   "execution_count": 17,
   "metadata": {
    "ExecuteTime": {
     "end_time": "2019-09-11T15:20:50.555667Z",
     "start_time": "2019-09-11T15:20:50.472096Z"
    }
   },
   "outputs": [
    {
     "data": {
      "text/html": [
       "<div>\n",
       "<style scoped>\n",
       "    .dataframe tbody tr th:only-of-type {\n",
       "        vertical-align: middle;\n",
       "    }\n",
       "\n",
       "    .dataframe tbody tr th {\n",
       "        vertical-align: top;\n",
       "    }\n",
       "\n",
       "    .dataframe thead th {\n",
       "        text-align: right;\n",
       "    }\n",
       "</style>\n",
       "<table border=\"1\" class=\"dataframe\">\n",
       "  <thead>\n",
       "    <tr style=\"text-align: right;\">\n",
       "      <th></th>\n",
       "      <th>stat</th>\n",
       "      <th>p-val</th>\n",
       "    </tr>\n",
       "  </thead>\n",
       "  <tbody>\n",
       "    <tr>\n",
       "      <th>E_1</th>\n",
       "      <td>0.316558</td>\n",
       "      <td>0.000000e+00</td>\n",
       "    </tr>\n",
       "    <tr>\n",
       "      <th>E_2</th>\n",
       "      <td>0.242647</td>\n",
       "      <td>3.105088e-191</td>\n",
       "    </tr>\n",
       "    <tr>\n",
       "      <th>E_3</th>\n",
       "      <td>0.177900</td>\n",
       "      <td>5.432149e-103</td>\n",
       "    </tr>\n",
       "    <tr>\n",
       "      <th>E_4</th>\n",
       "      <td>0.137970</td>\n",
       "      <td>4.077493e-62</td>\n",
       "    </tr>\n",
       "    <tr>\n",
       "      <th>E_5</th>\n",
       "      <td>0.102982</td>\n",
       "      <td>8.544001e-35</td>\n",
       "    </tr>\n",
       "    <tr>\n",
       "      <th>E_6</th>\n",
       "      <td>0.080004</td>\n",
       "      <td>3.613162e-21</td>\n",
       "    </tr>\n",
       "    <tr>\n",
       "      <th>E_7</th>\n",
       "      <td>0.064104</td>\n",
       "      <td>9.625567e-14</td>\n",
       "    </tr>\n",
       "    <tr>\n",
       "      <th>E_8</th>\n",
       "      <td>0.061972</td>\n",
       "      <td>7.154481e-13</td>\n",
       "    </tr>\n",
       "    <tr>\n",
       "      <th>E_9</th>\n",
       "      <td>0.061972</td>\n",
       "      <td>7.154481e-13</td>\n",
       "    </tr>\n",
       "    <tr>\n",
       "      <th>E_10</th>\n",
       "      <td>0.061972</td>\n",
       "      <td>7.154481e-13</td>\n",
       "    </tr>\n",
       "    <tr>\n",
       "      <th>E_11</th>\n",
       "      <td>0.061972</td>\n",
       "      <td>7.154481e-13</td>\n",
       "    </tr>\n",
       "  </tbody>\n",
       "</table>\n",
       "</div>"
      ],
      "text/plain": [
       "          stat          p-val\n",
       "E_1   0.316558   0.000000e+00\n",
       "E_2   0.242647  3.105088e-191\n",
       "E_3   0.177900  5.432149e-103\n",
       "E_4   0.137970   4.077493e-62\n",
       "E_5   0.102982   8.544001e-35\n",
       "E_6   0.080004   3.613162e-21\n",
       "E_7   0.064104   9.625567e-14\n",
       "E_8   0.061972   7.154481e-13\n",
       "E_9   0.061972   7.154481e-13\n",
       "E_10  0.061972   7.154481e-13\n",
       "E_11  0.061972   7.154481e-13"
      ]
     },
     "execution_count": 17,
     "metadata": {},
     "output_type": "execute_result"
    }
   ],
   "source": [
    "ks_df = pd.DataFrame(index = [i for i in dusk.columns[0:11]],\n",
    "                     columns=['stat','p-val'])\n",
    "\n",
    "ks_df['stat'] = [kss(dawn[i],dusk[i])[0] for i in dusk.columns[0:11]]\n",
    "ks_df['p-val'] = [kss(dawn[i],dusk[i])[1] for i in dusk.columns[0:11]]\n",
    "    \n",
    "ks_df"
   ]
  },
  {
   "cell_type": "markdown",
   "metadata": {},
   "source": [
    "# <center> Anderson-Darlin Test </center>"
   ]
  },
  {
   "cell_type": "code",
   "execution_count": 18,
   "metadata": {
    "ExecuteTime": {
     "end_time": "2019-09-11T15:20:50.564220Z",
     "start_time": "2019-09-11T15:20:50.561493Z"
    }
   },
   "outputs": [],
   "source": [
    "from scipy.stats import anderson_ksamp as adt"
   ]
  },
  {
   "cell_type": "code",
   "execution_count": 19,
   "metadata": {
    "ExecuteTime": {
     "end_time": "2019-09-11T15:20:50.752415Z",
     "start_time": "2019-09-11T15:20:50.568485Z"
    },
    "scrolled": true
   },
   "outputs": [
    {
     "name": "stderr",
     "output_type": "stream",
     "text": [
      "/home/users/hf832176/.conda/envs/tb_env5/lib/python3.6/site-packages/ipykernel_launcher.py:4: UserWarning: p-value floored: true value smaller than 0.001\n",
      "  after removing the cwd from sys.path.\n",
      "/home/users/hf832176/.conda/envs/tb_env5/lib/python3.6/site-packages/ipykernel_launcher.py:4: UserWarning: p-value floored: true value smaller than 0.001\n",
      "  after removing the cwd from sys.path.\n",
      "/home/users/hf832176/.conda/envs/tb_env5/lib/python3.6/site-packages/ipykernel_launcher.py:4: UserWarning: p-value floored: true value smaller than 0.001\n",
      "  after removing the cwd from sys.path.\n",
      "/home/users/hf832176/.conda/envs/tb_env5/lib/python3.6/site-packages/ipykernel_launcher.py:4: UserWarning: p-value floored: true value smaller than 0.001\n",
      "  after removing the cwd from sys.path.\n",
      "/home/users/hf832176/.conda/envs/tb_env5/lib/python3.6/site-packages/ipykernel_launcher.py:4: UserWarning: p-value floored: true value smaller than 0.001\n",
      "  after removing the cwd from sys.path.\n",
      "/home/users/hf832176/.conda/envs/tb_env5/lib/python3.6/site-packages/ipykernel_launcher.py:4: UserWarning: p-value floored: true value smaller than 0.001\n",
      "  after removing the cwd from sys.path.\n",
      "/home/users/hf832176/.conda/envs/tb_env5/lib/python3.6/site-packages/ipykernel_launcher.py:4: UserWarning: p-value floored: true value smaller than 0.001\n",
      "  after removing the cwd from sys.path.\n",
      "/home/users/hf832176/.conda/envs/tb_env5/lib/python3.6/site-packages/ipykernel_launcher.py:4: UserWarning: p-value floored: true value smaller than 0.001\n",
      "  after removing the cwd from sys.path.\n",
      "/home/users/hf832176/.conda/envs/tb_env5/lib/python3.6/site-packages/ipykernel_launcher.py:4: UserWarning: p-value floored: true value smaller than 0.001\n",
      "  after removing the cwd from sys.path.\n",
      "/home/users/hf832176/.conda/envs/tb_env5/lib/python3.6/site-packages/ipykernel_launcher.py:4: UserWarning: p-value floored: true value smaller than 0.001\n",
      "  after removing the cwd from sys.path.\n",
      "/home/users/hf832176/.conda/envs/tb_env5/lib/python3.6/site-packages/ipykernel_launcher.py:4: UserWarning: p-value floored: true value smaller than 0.001\n",
      "  after removing the cwd from sys.path.\n",
      "/home/users/hf832176/.conda/envs/tb_env5/lib/python3.6/site-packages/ipykernel_launcher.py:6: UserWarning: p-value floored: true value smaller than 0.001\n",
      "  \n",
      "/home/users/hf832176/.conda/envs/tb_env5/lib/python3.6/site-packages/ipykernel_launcher.py:6: UserWarning: p-value floored: true value smaller than 0.001\n",
      "  \n",
      "/home/users/hf832176/.conda/envs/tb_env5/lib/python3.6/site-packages/ipykernel_launcher.py:6: UserWarning: p-value floored: true value smaller than 0.001\n",
      "  \n",
      "/home/users/hf832176/.conda/envs/tb_env5/lib/python3.6/site-packages/ipykernel_launcher.py:6: UserWarning: p-value floored: true value smaller than 0.001\n",
      "  \n",
      "/home/users/hf832176/.conda/envs/tb_env5/lib/python3.6/site-packages/ipykernel_launcher.py:6: UserWarning: p-value floored: true value smaller than 0.001\n",
      "  \n",
      "/home/users/hf832176/.conda/envs/tb_env5/lib/python3.6/site-packages/ipykernel_launcher.py:6: UserWarning: p-value floored: true value smaller than 0.001\n",
      "  \n",
      "/home/users/hf832176/.conda/envs/tb_env5/lib/python3.6/site-packages/ipykernel_launcher.py:6: UserWarning: p-value floored: true value smaller than 0.001\n",
      "  \n",
      "/home/users/hf832176/.conda/envs/tb_env5/lib/python3.6/site-packages/ipykernel_launcher.py:6: UserWarning: p-value floored: true value smaller than 0.001\n",
      "  \n",
      "/home/users/hf832176/.conda/envs/tb_env5/lib/python3.6/site-packages/ipykernel_launcher.py:6: UserWarning: p-value floored: true value smaller than 0.001\n",
      "  \n",
      "/home/users/hf832176/.conda/envs/tb_env5/lib/python3.6/site-packages/ipykernel_launcher.py:6: UserWarning: p-value floored: true value smaller than 0.001\n",
      "  \n",
      "/home/users/hf832176/.conda/envs/tb_env5/lib/python3.6/site-packages/ipykernel_launcher.py:6: UserWarning: p-value floored: true value smaller than 0.001\n",
      "  \n"
     ]
    },
    {
     "data": {
      "text/html": [
       "<div>\n",
       "<style scoped>\n",
       "    .dataframe tbody tr th:only-of-type {\n",
       "        vertical-align: middle;\n",
       "    }\n",
       "\n",
       "    .dataframe tbody tr th {\n",
       "        vertical-align: top;\n",
       "    }\n",
       "\n",
       "    .dataframe thead th {\n",
       "        text-align: right;\n",
       "    }\n",
       "</style>\n",
       "<table border=\"1\" class=\"dataframe\">\n",
       "  <thead>\n",
       "    <tr style=\"text-align: right;\">\n",
       "      <th></th>\n",
       "      <th>stat</th>\n",
       "      <th>p-val</th>\n",
       "    </tr>\n",
       "  </thead>\n",
       "  <tbody>\n",
       "    <tr>\n",
       "      <th>E_1</th>\n",
       "      <td>30029.449585</td>\n",
       "      <td>0.001</td>\n",
       "    </tr>\n",
       "    <tr>\n",
       "      <th>E_2</th>\n",
       "      <td>29752.301820</td>\n",
       "      <td>0.001</td>\n",
       "    </tr>\n",
       "    <tr>\n",
       "      <th>E_3</th>\n",
       "      <td>29555.971338</td>\n",
       "      <td>0.001</td>\n",
       "    </tr>\n",
       "    <tr>\n",
       "      <th>E_4</th>\n",
       "      <td>29443.868295</td>\n",
       "      <td>0.001</td>\n",
       "    </tr>\n",
       "    <tr>\n",
       "      <th>E_5</th>\n",
       "      <td>29377.472124</td>\n",
       "      <td>0.001</td>\n",
       "    </tr>\n",
       "    <tr>\n",
       "      <th>E_6</th>\n",
       "      <td>29336.695943</td>\n",
       "      <td>0.001</td>\n",
       "    </tr>\n",
       "    <tr>\n",
       "      <th>E_7</th>\n",
       "      <td>29317.233925</td>\n",
       "      <td>0.001</td>\n",
       "    </tr>\n",
       "    <tr>\n",
       "      <th>E_8</th>\n",
       "      <td>29309.178965</td>\n",
       "      <td>0.001</td>\n",
       "    </tr>\n",
       "    <tr>\n",
       "      <th>E_9</th>\n",
       "      <td>29302.558491</td>\n",
       "      <td>0.001</td>\n",
       "    </tr>\n",
       "    <tr>\n",
       "      <th>E_10</th>\n",
       "      <td>29303.107534</td>\n",
       "      <td>0.001</td>\n",
       "    </tr>\n",
       "    <tr>\n",
       "      <th>E_11</th>\n",
       "      <td>29302.932548</td>\n",
       "      <td>0.001</td>\n",
       "    </tr>\n",
       "  </tbody>\n",
       "</table>\n",
       "</div>"
      ],
      "text/plain": [
       "              stat  p-val\n",
       "E_1   30029.449585  0.001\n",
       "E_2   29752.301820  0.001\n",
       "E_3   29555.971338  0.001\n",
       "E_4   29443.868295  0.001\n",
       "E_5   29377.472124  0.001\n",
       "E_6   29336.695943  0.001\n",
       "E_7   29317.233925  0.001\n",
       "E_8   29309.178965  0.001\n",
       "E_9   29302.558491  0.001\n",
       "E_10  29303.107534  0.001\n",
       "E_11  29302.932548  0.001"
      ]
     },
     "execution_count": 19,
     "metadata": {},
     "output_type": "execute_result"
    }
   ],
   "source": [
    "ad_df = pd.DataFrame(index = [i for i in dusk.columns[0:11]],\n",
    "                     columns=['stat','p-val'])\n",
    "\n",
    "ad_df['stat'] = [adt([dawn[i],dusk[i]])[0] for i in dusk.columns[0:11]]\n",
    "# ad_df['crit val'] = [adt([dawn[i],dusk[i]])[1] for i in dusk.columns[0:11]]\n",
    "ad_df['p-val'] = [adt([dawn[i],dusk[i]])[2] for i in dusk.columns[0:11]]\n",
    "    \n",
    "ad_df"
   ]
  },
  {
   "cell_type": "code",
   "execution_count": null,
   "metadata": {},
   "outputs": [],
   "source": []
  }
 ],
 "metadata": {
  "kernelspec": {
   "display_name": "Python 3",
   "language": "python",
   "name": "python3"
  },
  "language_info": {
   "codemirror_mode": {
    "name": "ipython",
    "version": 3
   },
   "file_extension": ".py",
   "mimetype": "text/x-python",
   "name": "python",
   "nbconvert_exporter": "python",
   "pygments_lexer": "ipython3",
   "version": "3.6.8"
  },
  "varInspector": {
   "cols": {
    "lenName": 16,
    "lenType": 16,
    "lenVar": 40
   },
   "kernels_config": {
    "python": {
     "delete_cmd_postfix": "",
     "delete_cmd_prefix": "del ",
     "library": "var_list.py",
     "varRefreshCmd": "print(var_dic_list())"
    },
    "r": {
     "delete_cmd_postfix": ") ",
     "delete_cmd_prefix": "rm(",
     "library": "var_list.r",
     "varRefreshCmd": "cat(var_dic_list()) "
    }
   },
   "types_to_exclude": [
    "module",
    "function",
    "builtin_function_or_method",
    "instance",
    "_Feature"
   ],
   "window_display": false
  }
 },
 "nbformat": 4,
 "nbformat_minor": 2
}
