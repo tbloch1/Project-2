{
 "cells": [
  {
   "cell_type": "code",
   "execution_count": 1,
   "metadata": {
    "ExecuteTime": {
     "end_time": "2019-09-06T17:34:55.624446Z",
     "start_time": "2019-09-06T17:34:53.020605Z"
    }
   },
   "outputs": [],
   "source": [
    "import numpy as np\n",
    "import pandas as pd\n",
    "import datetime as dt\n",
    "import cdflib"
   ]
  },
  {
   "cell_type": "code",
   "execution_count": 2,
   "metadata": {
    "ExecuteTime": {
     "end_time": "2019-09-06T17:34:55.681753Z",
     "start_time": "2019-09-06T17:34:55.679051Z"
    }
   },
   "outputs": [],
   "source": [
    "base_f_loc = '/storage/silver/stfc_cg/hf832176/data/THEMIS/'"
   ]
  },
  {
   "cell_type": "markdown",
   "metadata": {},
   "source": [
    "## Basic commands:\n",
    "\n",
    "data = some .cdf file.\n",
    "\n",
    "data.cdf_info() - lists variables and more\n",
    "\n",
    "data.varattsget() - lists variables\n",
    "\n",
    "data.varattsget(variable_name) - lists variable info"
   ]
  },
  {
   "cell_type": "code",
   "execution_count": 49,
   "metadata": {
    "ExecuteTime": {
     "end_time": "2019-09-06T20:43:33.409798Z",
     "start_time": "2019-09-06T20:43:33.406418Z"
    }
   },
   "outputs": [],
   "source": [
    "spacecraft = 'tha'"
   ]
  },
  {
   "cell_type": "code",
   "execution_count": 50,
   "metadata": {
    "ExecuteTime": {
     "end_time": "2019-09-06T20:43:49.620935Z",
     "start_time": "2019-09-06T20:43:49.617145Z"
    }
   },
   "outputs": [],
   "source": [
    "def get_file_paths(base_f_loc, instrument, spacecraft):\n",
    "    f_path = base_f_loc+instrument+'/'+spacecraft\n",
    "    files = !ls {f_path}?*.cdf\n",
    "    return files"
   ]
  },
  {
   "cell_type": "markdown",
   "metadata": {},
   "source": [
    "# <center>SST data: Spectra</center>"
   ]
  },
  {
   "cell_type": "code",
   "execution_count": 51,
   "metadata": {
    "ExecuteTime": {
     "end_time": "2019-09-06T20:45:12.114823Z",
     "start_time": "2019-09-06T20:44:05.105684Z"
    }
   },
   "outputs": [
    {
     "name": "stdout",
     "output_type": "stream",
     "text": [
      "Variable name not found.\n",
      "File failed to load: /storage/silver/stfc_cg/hf832176/data/THEMIS/sst/tha_l2_sst_20071002_v01.cdf\n"
     ]
    }
   ],
   "source": [
    "instrument = 'sst'\n",
    "files = get_file_paths(base_f_loc, instrument, spacecraft)\n",
    "\n",
    "sub_dfs = []\n",
    "for i in files:\n",
    "    # Load data\n",
    "    try:\n",
    "        data = cdflib.CDF(i)\n",
    "    except OSError:\n",
    "        print('File failed to load: '+i)\n",
    "        pass\n",
    "    # Read electron spectrogram\n",
    "    eflux = data.varget(spacecraft+'_psef_en_eflux')\n",
    "    # Read spectrogram quality flag (>0 is bad)\n",
    "    quality = data.varget(spacecraft+'_psef_data_quality')\n",
    "    \n",
    "    # Read energy levels for data\n",
    "    ene = data.varget(spacecraft+'_psef_en_eflux_yaxis')\n",
    "    e_col_names = ['E_'+str(i+1) for i in range(len(ene[0]))]\n",
    "    # Create datetimes for timestamps\n",
    "    try:\n",
    "        dti = [dt.datetime(1970,1,1) + dt.timedelta(seconds=i)\n",
    "           for i in data.varget(spacecraft+'_psef_time')]\n",
    "    except TypeError:\n",
    "        print('No data: '+i)\n",
    "    \n",
    "    df = pd.DataFrame(eflux,index=dti,columns=e_col_names)\n",
    "    df['quality'] = quality\n",
    "    \n",
    "    sub_dfs.append(df)"
   ]
  },
  {
   "cell_type": "code",
   "execution_count": 52,
   "metadata": {
    "ExecuteTime": {
     "end_time": "2019-09-06T20:45:49.735988Z",
     "start_time": "2019-09-06T20:45:49.733760Z"
    }
   },
   "outputs": [],
   "source": [
    "# instrument = 'sst'\n",
    "# files = get_file_paths(base_f_loc, instrument, spacecraft)\n",
    "# data = cdflib.CDF(files[0])\n",
    "# data.varattsget(spacecraft+'_psef_en_eflux')"
   ]
  },
  {
   "cell_type": "code",
   "execution_count": 53,
   "metadata": {
    "ExecuteTime": {
     "end_time": "2019-09-06T20:46:30.131327Z",
     "start_time": "2019-09-06T20:46:26.218108Z"
    },
    "scrolled": true
   },
   "outputs": [
    {
     "name": "stderr",
     "output_type": "stream",
     "text": [
      "/home/users/hf832176/.conda/envs/tb_env5/lib/python3.6/site-packages/ipykernel_launcher.py:1: FutureWarning: Sorting because non-concatenation axis is not aligned. A future version\n",
      "of pandas will change to not sort by default.\n",
      "\n",
      "To accept the future behavior, pass 'sort=False'.\n",
      "\n",
      "To retain the current behavior and silence the warning, pass 'sort=True'.\n",
      "\n",
      "  \"\"\"Entry point for launching an IPython kernel.\n"
     ]
    },
    {
     "name": "stdout",
     "output_type": "stream",
     "text": [
      "<class 'pandas.core.frame.DataFrame'>\n",
      "DatetimeIndex: 142364 entries, 2007-09-26 16:19:45.142290 to 2008-05-31 23:59:16.693261\n",
      "Data columns (total 17 columns):\n",
      "E_1        142364 non-null float64\n",
      "E_10       142364 non-null float64\n",
      "E_11       142364 non-null float64\n",
      "E_12       0 non-null float64\n",
      "E_13       0 non-null float64\n",
      "E_14       0 non-null float64\n",
      "E_15       0 non-null float64\n",
      "E_16       0 non-null float64\n",
      "E_2        142364 non-null float64\n",
      "E_3        142364 non-null float64\n",
      "E_4        142364 non-null float64\n",
      "E_5        142364 non-null float64\n",
      "E_6        142364 non-null float64\n",
      "E_7        142364 non-null float64\n",
      "E_8        142364 non-null float64\n",
      "E_9        142364 non-null float64\n",
      "quality    142289 non-null object\n",
      "dtypes: float64(16), object(1)\n",
      "memory usage: 19.6+ MB\n"
     ]
    }
   ],
   "source": [
    "comb_df = pd.concat(sub_dfs)\n",
    "comb_df.info()\n",
    "comb_df.to_csv(base_f_loc+spacecraft+'/'+spacecraft+'_'+instrument+'.csv')\n",
    "comb_df.to_pickle(base_f_loc+spacecraft+'/'+spacecraft+'_'+instrument+'.pkl')"
   ]
  },
  {
   "cell_type": "code",
   "execution_count": 54,
   "metadata": {
    "ExecuteTime": {
     "end_time": "2019-09-06T20:47:06.874352Z",
     "start_time": "2019-09-06T20:47:06.871758Z"
    }
   },
   "outputs": [],
   "source": [
    "# instrument = 'sst'\n",
    "# spacecraft = 'tha'\n",
    "# files = get_file_paths(base_f_loc, instrument, spacecraft)\n",
    "# data = cdflib.CDF(files[0])\n",
    "# ene = data.varget(spacecraft+'_psef_en_eflux_yaxis')\n",
    "# ene[0]\n",
    "# df = pd.DataFrame([i for i in range(len(ene[0]))],index=ene[0],columns=['eV'])\n",
    "# df.to_csv(base_f_loc+spacecraft+'/'+spacecraft+'_'+instrument+'_energy_levels.csv')\n",
    "# df.to_pickle(base_f_loc+spacecraft+'/'+spacecraft+'_'+instrument+'_energy_levels.pkl')"
   ]
  },
  {
   "cell_type": "markdown",
   "metadata": {},
   "source": [
    "# <center> STATE: Position, orientation etc. </center>"
   ]
  },
  {
   "cell_type": "code",
   "execution_count": 55,
   "metadata": {
    "ExecuteTime": {
     "end_time": "2019-09-06T20:48:20.503459Z",
     "start_time": "2019-09-06T20:47:43.904080Z"
    }
   },
   "outputs": [],
   "source": [
    "instrument = 'state'\n",
    "files = get_file_paths(base_f_loc, instrument, spacecraft)\n",
    "\n",
    "sub_dfs = []\n",
    "for i in files:\n",
    "    # Load data\n",
    "    try:\n",
    "        data = cdflib.CDF(i)\n",
    "    except OSError:\n",
    "        print('File failed to load: '+i)\n",
    "        pass\n",
    "    # Read GSM position\n",
    "    pos_gsm = data.varget(spacecraft+'_pos_gsm')\n",
    "    pos_gei = data.varget(spacecraft+'_pos')\n",
    "    \n",
    "    spin_ra = data.varget(spacecraft+'_spinras') # right ascension\n",
    "    spin_dec = data.varget(spacecraft+'_spindec') # declination\n",
    "    spin_per = data.varget(spacecraft+'_spinper') # spin period\n",
    "    spin_phase = data.varget(spacecraft+'_spinphase') #spin phase\n",
    "    \n",
    "    # Create datetimes for timestamps\n",
    "    try:\n",
    "        dti = [dt.datetime(1970,1,1) + dt.timedelta(seconds=i)\n",
    "           for i in data.varget(spacecraft+'_state_time')]\n",
    "    except TypeError:\n",
    "        print('No data: '+i)\n",
    "    \n",
    "    df = pd.DataFrame(pos_gsm,index=dti,columns=['pos_x_gsm','pos_y_gsm','pos_z_gsm'])\n",
    "    df['spin_ra'] = spin_ra\n",
    "    df['spin_dec'] = spin_dec\n",
    "    df['spin_per'] = spin_per\n",
    "    df['spin_phase'] = spin_phase\n",
    "    df['pos_x_gei'] = pos_gei[:,0]\n",
    "    df['pos_y_gei'] = pos_gei[:,1]\n",
    "    df['pos_z_gei'] = pos_gei[:,2]\n",
    "    \n",
    "    sub_dfs.append(df)"
   ]
  },
  {
   "cell_type": "code",
   "execution_count": 56,
   "metadata": {
    "ExecuteTime": {
     "end_time": "2019-09-06T20:48:46.541286Z",
     "start_time": "2019-09-06T20:48:46.538980Z"
    },
    "scrolled": true
   },
   "outputs": [],
   "source": [
    "# instrument = 'state'\n",
    "# spacecraft = 'tha'\n",
    "# files = get_file_paths(base_f_loc, instrument, spacecraft)\n",
    "\n",
    "# data = cdflib.CDF(files[0])\n",
    "\n",
    "# data.varattsget('tha_pos')"
   ]
  },
  {
   "cell_type": "code",
   "execution_count": 57,
   "metadata": {
    "ExecuteTime": {
     "end_time": "2019-09-06T20:49:18.186995Z",
     "start_time": "2019-09-06T20:49:12.781265Z"
    }
   },
   "outputs": [
    {
     "name": "stdout",
     "output_type": "stream",
     "text": [
      "<class 'pandas.core.frame.DataFrame'>\n",
      "DatetimeIndex: 349920 entries, 2007-09-15 00:00:00 to 2008-05-31 23:59:00\n",
      "Data columns (total 10 columns):\n",
      "pos_x_gsm     349920 non-null float32\n",
      "pos_y_gsm     349920 non-null float32\n",
      "pos_z_gsm     349920 non-null float32\n",
      "spin_ra       349920 non-null float32\n",
      "spin_dec      349920 non-null float32\n",
      "spin_per      349920 non-null float32\n",
      "spin_phase    349920 non-null float32\n",
      "pos_x_gei     349920 non-null float32\n",
      "pos_y_gei     349920 non-null float32\n",
      "pos_z_gei     349920 non-null float32\n",
      "dtypes: float32(10)\n",
      "memory usage: 16.0 MB\n"
     ]
    }
   ],
   "source": [
    "comb_df = pd.concat(sub_dfs)\n",
    "comb_df.info()\n",
    "comb_df.to_csv(base_f_loc+spacecraft+'/'+spacecraft+'_'+instrument+'.csv')\n",
    "comb_df.to_pickle(base_f_loc+spacecraft+'/'+spacecraft+'_'+instrument+'.pkl')"
   ]
  },
  {
   "cell_type": "markdown",
   "metadata": {},
   "source": [
    "# <center> FGM: B-field etc. </center>"
   ]
  },
  {
   "cell_type": "code",
   "execution_count": 58,
   "metadata": {
    "ExecuteTime": {
     "end_time": "2019-09-06T20:55:24.014648Z",
     "start_time": "2019-09-06T20:49:41.947245Z"
    },
    "scrolled": true
   },
   "outputs": [
    {
     "name": "stdout",
     "output_type": "stream",
     "text": [
      "No data: /storage/silver/stfc_cg/hf832176/data/THEMIS/fgm/tha_l2_fgm_20070915_v01.cdf\n",
      "No data: /storage/silver/stfc_cg/hf832176/data/THEMIS/fgm/tha_l2_fgm_20070916_v01.cdf\n",
      "No data: /storage/silver/stfc_cg/hf832176/data/THEMIS/fgm/tha_l2_fgm_20071002_v01.cdf\n"
     ]
    }
   ],
   "source": [
    "instrument = 'fgm'\n",
    "data_rate = 'l' # or 'h'\n",
    "files = get_file_paths(base_f_loc, instrument, spacecraft)\n",
    "\n",
    "sub_dfs = []\n",
    "for i in files:\n",
    "    # Load data\n",
    "    try:\n",
    "        data = cdflib.CDF(i)\n",
    "    except OSError:\n",
    "        print('File failed to load: '+i)\n",
    "        pass\n",
    "    # Read GSM position\n",
    "    try:\n",
    "        b_gsm = data.varget(spacecraft+'_fg'+data_rate+'_gsm')\n",
    "    except ValueError as err:\n",
    "        print(\"Value error: {0}\".format(err))\n",
    "        print(i)\n",
    "        pass\n",
    "    except EOFError as err:\n",
    "        print(\"EOF error: {0}\".format(err))\n",
    "        print(i)\n",
    "        pass\n",
    "    \n",
    "    try:    \n",
    "        quality = data.varget(spacecraft+'_fg'+data_rate+'_gsmQ')\n",
    "    except ValueError as err:\n",
    "        print(\"Value error: {0}\".format(err))\n",
    "        print(i)\n",
    "        pass\n",
    "    except EOFError as err:\n",
    "        print(\"EOF error: {0}\".format(err))\n",
    "        print(i)\n",
    "        pass\n",
    "    \n",
    "    # Create datetimes for timestamps\n",
    "    try:\n",
    "        dti = [dt.datetime(1970,1,1) + dt.timedelta(seconds=i)\n",
    "               for i in data.varget(spacecraft+'_fg'+data_rate+'_time')]\n",
    "    except TypeError:\n",
    "        print('No data: '+i)\n",
    "    except ValueError as err:\n",
    "        print(\"Value error: {0}\".format(err))\n",
    "        print(i)\n",
    "        pass\n",
    "    except EOFError as err:\n",
    "        print(\"EOF error: {0}\".format(err))\n",
    "        print(i)\n",
    "        pass\n",
    "\n",
    "    \n",
    "    df = pd.DataFrame(b_gsm,index=dti,columns=['Bx_gsm','By_gsm','Bz_gsm'])\n",
    "    df['quality'] = quality\n",
    "    \n",
    "    sub_dfs.append(df)"
   ]
  },
  {
   "cell_type": "code",
   "execution_count": 59,
   "metadata": {
    "ExecuteTime": {
     "end_time": "2019-09-06T21:00:57.543202Z",
     "start_time": "2019-09-06T20:55:38.820735Z"
    },
    "scrolled": true
   },
   "outputs": [
    {
     "name": "stdout",
     "output_type": "stream",
     "text": [
      "<class 'pandas.core.frame.DataFrame'>\n",
      "DatetimeIndex: 52847424 entries, 2008-05-31 00:00:00 to 2008-06-01 00:00:59.728973\n",
      "Data columns (total 4 columns):\n",
      "Bx_gsm     float32\n",
      "By_gsm     float32\n",
      "Bz_gsm     float32\n",
      "quality    object\n",
      "dtypes: float32(3), object(1)\n",
      "memory usage: 1.4+ GB\n"
     ]
    }
   ],
   "source": [
    "comb_df = pd.concat(sub_dfs)\n",
    "comb_df.info()\n",
    "comb_df.to_csv(base_f_loc+spacecraft+'/'+spacecraft+'_'+instrument+'.csv')\n",
    "comb_df.to_pickle(base_f_loc+spacecraft+'/'+spacecraft+'_'+instrument+'.pkl')"
   ]
  },
  {
   "cell_type": "code",
   "execution_count": null,
   "metadata": {},
   "outputs": [],
   "source": []
  },
  {
   "cell_type": "code",
   "execution_count": null,
   "metadata": {},
   "outputs": [],
   "source": []
  },
  {
   "cell_type": "code",
   "execution_count": null,
   "metadata": {},
   "outputs": [],
   "source": []
  },
  {
   "cell_type": "code",
   "execution_count": null,
   "metadata": {},
   "outputs": [],
   "source": []
  }
 ],
 "metadata": {
  "kernelspec": {
   "display_name": "Python 3",
   "language": "python",
   "name": "python3"
  },
  "language_info": {
   "codemirror_mode": {
    "name": "ipython",
    "version": 3
   },
   "file_extension": ".py",
   "mimetype": "text/x-python",
   "name": "python",
   "nbconvert_exporter": "python",
   "pygments_lexer": "ipython3",
   "version": "3.6.8"
  },
  "varInspector": {
   "cols": {
    "lenName": 16,
    "lenType": 16,
    "lenVar": 40
   },
   "kernels_config": {
    "python": {
     "delete_cmd_postfix": "",
     "delete_cmd_prefix": "del ",
     "library": "var_list.py",
     "varRefreshCmd": "print(var_dic_list())"
    },
    "r": {
     "delete_cmd_postfix": ") ",
     "delete_cmd_prefix": "rm(",
     "library": "var_list.r",
     "varRefreshCmd": "cat(var_dic_list()) "
    }
   },
   "types_to_exclude": [
    "module",
    "function",
    "builtin_function_or_method",
    "instance",
    "_Feature"
   ],
   "window_display": false
  }
 },
 "nbformat": 4,
 "nbformat_minor": 2
}
