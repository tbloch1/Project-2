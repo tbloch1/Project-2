{
 "cells": [
  {
   "cell_type": "code",
   "execution_count": 1,
   "metadata": {
    "ExecuteTime": {
     "end_time": "2019-09-06T20:02:33.776244Z",
     "start_time": "2019-09-06T20:02:31.964726Z"
    }
   },
   "outputs": [],
   "source": [
    "import pandas as pd\n",
    "import numpy as np\n",
    "import datetime as dt"
   ]
  },
  {
   "cell_type": "code",
   "execution_count": 2,
   "metadata": {
    "ExecuteTime": {
     "end_time": "2019-09-06T20:02:33.783896Z",
     "start_time": "2019-09-06T20:02:33.780191Z"
    }
   },
   "outputs": [],
   "source": [
    "base_f_loc = '/storage/silver/stfc_cg/hf832176/data/THEMIS/'"
   ]
  },
  {
   "cell_type": "code",
   "execution_count": 61,
   "metadata": {
    "ExecuteTime": {
     "end_time": "2019-09-06T21:01:40.610971Z",
     "start_time": "2019-09-06T21:01:40.605938Z"
    }
   },
   "outputs": [],
   "source": [
    "spacecraft = 'tha'\n",
    "\n",
    "f_loc = base_f_loc+spacecraft+'/'"
   ]
  },
  {
   "cell_type": "markdown",
   "metadata": {},
   "source": [
    "# <center> Read in Data </center>"
   ]
  },
  {
   "cell_type": "code",
   "execution_count": 62,
   "metadata": {
    "ExecuteTime": {
     "end_time": "2019-09-06T21:01:42.459863Z",
     "start_time": "2019-09-06T21:01:42.181722Z"
    }
   },
   "outputs": [
    {
     "name": "stdout",
     "output_type": "stream",
     "text": [
      "/storage/silver/stfc_cg/hf832176/data/THEMIS/tha/tha_fgm.pkl\r\n",
      "/storage/silver/stfc_cg/hf832176/data/THEMIS/tha/tha_sst_energy_levels.pkl\r\n",
      "/storage/silver/stfc_cg/hf832176/data/THEMIS/tha/tha_sstenergy_levels.pkl\r\n",
      "/storage/silver/stfc_cg/hf832176/data/THEMIS/tha/tha_sst.pkl\r\n",
      "/storage/silver/stfc_cg/hf832176/data/THEMIS/tha/tha_state.pkl\r\n"
     ]
    }
   ],
   "source": [
    "!ls {f_loc}*.pkl"
   ]
  },
  {
   "cell_type": "code",
   "execution_count": 63,
   "metadata": {
    "ExecuteTime": {
     "end_time": "2019-09-06T21:01:48.541848Z",
     "start_time": "2019-09-06T21:01:44.145920Z"
    }
   },
   "outputs": [],
   "source": [
    "fgm = pd.read_pickle(f_loc+spacecraft+'_fgm.pkl')\n",
    "sst = pd.read_pickle(f_loc+spacecraft+'_sst.pkl')\n",
    "state = pd.read_pickle(f_loc+spacecraft+'_state.pkl')\n",
    "# e_levels = pd.read_pickle(f_loc+spacecraft+'_sst_energy_levels.pkl')"
   ]
  },
  {
   "cell_type": "markdown",
   "metadata": {},
   "source": [
    "# <center> Resample and Concatenate Data </center>"
   ]
  },
  {
   "cell_type": "code",
   "execution_count": 64,
   "metadata": {
    "ExecuteTime": {
     "end_time": "2019-09-06T21:02:24.623383Z",
     "start_time": "2019-09-06T21:01:49.849746Z"
    }
   },
   "outputs": [],
   "source": [
    "sst = sst.resample('3T',loffset=dt.timedelta(minutes=1)).mean()\n",
    "state = state.resample('3T',loffset=dt.timedelta(minutes=1)).mean()\n",
    "fgm = fgm.resample('3T',loffset=dt.timedelta(minutes=1)).mean()\n",
    "# sst.head()"
   ]
  },
  {
   "cell_type": "code",
   "execution_count": 65,
   "metadata": {
    "ExecuteTime": {
     "end_time": "2019-09-06T21:02:26.261965Z",
     "start_time": "2019-09-06T21:02:26.258560Z"
    }
   },
   "outputs": [
    {
     "name": "stdout",
     "output_type": "stream",
     "text": [
      "(119194, 16) (124800, 10) (123675, 3)\n"
     ]
    }
   ],
   "source": [
    "print(sst.shape,state.shape,fgm.shape)"
   ]
  },
  {
   "cell_type": "code",
   "execution_count": 66,
   "metadata": {
    "ExecuteTime": {
     "end_time": "2019-09-06T21:02:27.650193Z",
     "start_time": "2019-09-06T21:02:27.528689Z"
    }
   },
   "outputs": [
    {
     "name": "stdout",
     "output_type": "stream",
     "text": [
      "<class 'pandas.core.frame.DataFrame'>\n",
      "DatetimeIndex: 124801 entries, 2007-09-15 00:01:00 to 2008-06-01 00:01:00\n",
      "Freq: 3T\n",
      "Data columns (total 29 columns):\n",
      "E_1           99886 non-null float64\n",
      "E_10          99886 non-null float64\n",
      "E_11          99886 non-null float64\n",
      "E_12          0 non-null float64\n",
      "E_13          0 non-null float64\n",
      "E_14          0 non-null float64\n",
      "E_15          0 non-null float64\n",
      "E_16          0 non-null float64\n",
      "E_2           99886 non-null float64\n",
      "E_3           99886 non-null float64\n",
      "E_4           99886 non-null float64\n",
      "E_5           99886 non-null float64\n",
      "E_6           99886 non-null float64\n",
      "E_7           99886 non-null float64\n",
      "E_8           99886 non-null float64\n",
      "E_9           99886 non-null float64\n",
      "Bx_gsm        73284 non-null float32\n",
      "By_gsm        73284 non-null float32\n",
      "Bz_gsm        73284 non-null float32\n",
      "pos_x_gsm     116640 non-null float32\n",
      "pos_y_gsm     116640 non-null float32\n",
      "pos_z_gsm     116640 non-null float32\n",
      "spin_ra       116640 non-null float32\n",
      "spin_dec      116640 non-null float32\n",
      "spin_per      116640 non-null float32\n",
      "spin_phase    116640 non-null float32\n",
      "pos_x_gei     116640 non-null float32\n",
      "pos_y_gei     116640 non-null float32\n",
      "pos_z_gei     116640 non-null float32\n",
      "dtypes: float32(13), float64(16)\n",
      "memory usage: 22.4 MB\n"
     ]
    }
   ],
   "source": [
    "tha = pd.concat([sst,fgm,state],axis=1)\n",
    "tha.info()"
   ]
  },
  {
   "cell_type": "markdown",
   "metadata": {},
   "source": [
    "# <center> Additional Data </center>\n",
    "\n",
    "## GSM Radial Distance\n",
    "\n",
    "R$_E$ = 6378.1 km"
   ]
  },
  {
   "cell_type": "code",
   "execution_count": 67,
   "metadata": {
    "ExecuteTime": {
     "end_time": "2019-09-06T21:02:30.314846Z",
     "start_time": "2019-09-06T21:02:28.886358Z"
    }
   },
   "outputs": [
    {
     "data": {
      "text/plain": [
       "<matplotlib.axes._subplots.AxesSubplot at 0x2b556333a278>"
      ]
     },
     "execution_count": 67,
     "metadata": {},
     "output_type": "execute_result"
    },
    {
     "data": {
      "image/png": "[encoded data removed]",
      "text/plain": [
       "<Figure size 432x288 with 1 Axes>"
      ]
     },
     "metadata": {
      "needs_background": "light"
     },
     "output_type": "display_data"
    }
   ],
   "source": [
    "RE = 6378.1\n",
    "\n",
    "tha['r'] = [np.linalg.norm(i)/RE for i in tha[['pos_x_gsm','pos_y_gsm','pos_z_gsm']].values]\n",
    "\n",
    "tha['r'].iloc[:600].plot()"
   ]
  },
  {
   "cell_type": "markdown",
   "metadata": {},
   "source": [
    "## GSM -> MLT\n",
    "\n",
    "If you thought THEMIS GSM$^{TM}$ was the same as usual GSM, guess again!\n",
    "\n",
    "X is positive towards the Sun.\n",
    "Z is positive towards Magnetic North.\n",
    "Y is positive towards... dusk.\n",
    "\n",
    "$\\theta_a = Tan^{-1}(Y/X)$\n",
    "\n",
    "$\\theta_b = Tan^{-1}(X/Y)$\n",
    "\n",
    "(X < 0, Y < 0): $MLT = 6 \\left(\\frac{\\theta_a}{\\pi/2}\\right)$\n",
    "\n",
    "(X > 0, Y < 0): $MLT = 6 \\left(\\frac{\\theta_b}{\\pi/2}\\right) + 6$\n",
    "\n",
    "(X > 0, Y > 0): $MLT = 6 \\left(\\frac{\\theta_a}{\\pi/2}\\right) + 12$\n",
    "\n",
    "(X < 0, Y > 0): $MLT = 6 \\left(\\frac{\\theta_b}{\\pi/2}\\right) + 18$"
   ]
  },
  {
   "cell_type": "code",
   "execution_count": 68,
   "metadata": {
    "ExecuteTime": {
     "end_time": "2019-09-06T21:02:32.957096Z",
     "start_time": "2019-09-06T21:02:31.709150Z"
    }
   },
   "outputs": [],
   "source": [
    "mlt_arr = []\n",
    "for x,y in zip(tha['pos_x_gsm'],tha['pos_y_gsm']):\n",
    "# for x,y in zip([-3,3,-3,3],[2,2,-2,-2]):\n",
    "    if y < 0:\n",
    "        theta_a = np.arctan(np.abs(y)/np.abs(x))\n",
    "        theta_b = np.arctan(np.abs(x)/np.abs(y))\n",
    "        if x <= 0:\n",
    "            mlt = 6*(theta_a/(np.pi/2))\n",
    "            mlt_arr.append(mlt)\n",
    "        elif x > 0:\n",
    "            mlt = 6*(theta_b/(np.pi/2)) + 6\n",
    "            mlt_arr.append(mlt)\n",
    "            \n",
    "    elif y > 0:\n",
    "        theta_a = np.arctan(np.abs(y)/np.abs(x))\n",
    "        theta_b = np.arctan(np.abs(x)/np.abs(y))\n",
    "        if x > 0:\n",
    "            mlt = 6*(theta_a/(np.pi/2)) + 12\n",
    "            mlt_arr.append(mlt)\n",
    "        elif x <= 0:\n",
    "            mlt = 6*(theta_b/(np.pi/2)) + 18\n",
    "            mlt_arr.append(mlt)\n",
    "    else:\n",
    "        mlt_arr.append(np.nan)\n",
    "            \n",
    "tha['mlt'] = mlt_arr"
   ]
  },
  {
   "cell_type": "code",
   "execution_count": 69,
   "metadata": {
    "ExecuteTime": {
     "end_time": "2019-09-06T21:02:34.532386Z",
     "start_time": "2019-09-06T21:02:34.375439Z"
    }
   },
   "outputs": [],
   "source": [
    "tha.to_pickle(base_f_loc+spacecraft+'.pkl')"
   ]
  },
  {
   "cell_type": "markdown",
   "metadata": {},
   "source": [
    "# <center> Plotting Data </center>"
   ]
  },
  {
   "cell_type": "code",
   "execution_count": 12,
   "metadata": {
    "ExecuteTime": {
     "end_time": "2019-09-06T20:03:21.612231Z",
     "start_time": "2019-09-06T20:03:21.586842Z"
    }
   },
   "outputs": [],
   "source": [
    "import matplotlib.pyplot as plt\n",
    "from mpl_toolkits import mplot3d\n",
    "from matplotlib import cm"
   ]
  },
  {
   "cell_type": "code",
   "execution_count": 13,
   "metadata": {
    "ExecuteTime": {
     "end_time": "2019-09-06T20:03:21.824926Z",
     "start_time": "2019-09-06T20:03:21.614796Z"
    }
   },
   "outputs": [
    {
     "name": "stderr",
     "output_type": "stream",
     "text": [
      "/home/users/hf832176/.conda/envs/tb_env5/lib/python3.6/site-packages/numpy/lib/histograms.py:824: RuntimeWarning: invalid value encountered in greater_equal\n",
      "  keep = (tmp_a >= first_edge)\n",
      "/home/users/hf832176/.conda/envs/tb_env5/lib/python3.6/site-packages/numpy/lib/histograms.py:825: RuntimeWarning: invalid value encountered in less_equal\n",
      "  keep &= (tmp_a <= last_edge)\n"
     ]
    },
    {
     "data": {
      "image/png": "[encoded data removed]",
      "text/plain": [
       "<Figure size 432x288 with 1 Axes>"
      ]
     },
     "metadata": {
      "needs_background": "light"
     },
     "output_type": "display_data"
    }
   ],
   "source": [
    "plt.hist(tha['pos_y_gsm']/6378.1,bins=100,histtype='step',label='y')\n",
    "plt.hist(tha['pos_x_gsm']/6378.1,bins=100,histtype='step',label='x')\n",
    "plt.hist(tha['pos_z_gsm']/6378.1,bins=100,histtype='step',label='z')\n",
    "plt.legend()\n",
    "plt.show()"
   ]
  },
  {
   "cell_type": "code",
   "execution_count": 14,
   "metadata": {
    "ExecuteTime": {
     "end_time": "2019-09-06T20:14:19.553702Z",
     "start_time": "2019-09-06T20:03:21.826669Z"
    }
   },
   "outputs": [
    {
     "data": {
      "image/png": "[encoded data removed]",
      "text/plain": [
       "<Figure size 432x288 with 1 Axes>"
      ]
     },
     "metadata": {
      "needs_background": "light"
     },
     "output_type": "display_data"
    }
   ],
   "source": [
    "fig = plt.figure()\n",
    "ax = plt.axes(projection='3d')\n",
    "\n",
    "viridis = cm.get_cmap('viridis', len(tha))\n",
    "for i in range(len(tha)):\n",
    "    colour = viridis(i/len(tha))\n",
    "    ax.plot(tha['pos_x_gsm'][i:i+2]/6378.1,\n",
    "            tha['pos_y_gsm'][i:i+2]/6378.1,\n",
    "            tha['pos_z_gsm'][i:i+2]/6378.1,\n",
    "            c=colour)\n",
    "    \n",
    "ax.set_xlabel('X')\n",
    "ax.set_ylabel('Y')\n",
    "ax.set_zlabel('Z')\n",
    "plt.show()"
   ]
  },
  {
   "cell_type": "code",
   "execution_count": 15,
   "metadata": {
    "ExecuteTime": {
     "end_time": "2019-09-06T20:14:19.597091Z",
     "start_time": "2019-09-06T20:14:19.556053Z"
    }
   },
   "outputs": [
    {
     "name": "stdout",
     "output_type": "stream",
     "text": [
      "124801 27886 10595 9694\n"
     ]
    }
   ],
   "source": [
    "equa_r = tha[(np.abs(tha['pos_z_gsm']/6378.1)<1) &\n",
    "             (tha['r'] >= 7)]\n",
    "dawn = equa_r[(3 <= equa_r['mlt']) &\n",
    "                  (equa_r['mlt'] <= 9)]\n",
    "dusk = equa_r[(15 <= equa_r['mlt']) &\n",
    "                  (equa_r['mlt'] <= 21)]\n",
    "print(len(tha),len(equa_r),len(dawn),len(dusk))"
   ]
  },
  {
   "cell_type": "code",
   "execution_count": null,
   "metadata": {},
   "outputs": [],
   "source": []
  }
 ],
 "metadata": {
  "kernelspec": {
   "display_name": "Python 3",
   "language": "python",
   "name": "python3"
  },
  "language_info": {
   "codemirror_mode": {
    "name": "ipython",
    "version": 3
   },
   "file_extension": ".py",
   "mimetype": "text/x-python",
   "name": "python",
   "nbconvert_exporter": "python",
   "pygments_lexer": "ipython3",
   "version": "3.6.8"
  },
  "varInspector": {
   "cols": {
    "lenName": 16,
    "lenType": 16,
    "lenVar": 40
   },
   "kernels_config": {
    "python": {
     "delete_cmd_postfix": "",
     "delete_cmd_prefix": "del ",
     "library": "var_list.py",
     "varRefreshCmd": "print(var_dic_list())"
    },
    "r": {
     "delete_cmd_postfix": ") ",
     "delete_cmd_prefix": "rm(",
     "library": "var_list.r",
     "varRefreshCmd": "cat(var_dic_list()) "
    }
   },
   "types_to_exclude": [
    "module",
    "function",
    "builtin_function_or_method",
    "instance",
    "_Feature"
   ],
   "window_display": false
  }
 },
 "nbformat": 4,
 "nbformat_minor": 2
}
